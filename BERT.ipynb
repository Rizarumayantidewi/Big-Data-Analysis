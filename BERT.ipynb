{
  "cells": [
    {
      "cell_type": "markdown",
      "metadata": {
        "id": "view-in-github",
        "colab_type": "text"
      },
      "source": [
        "<a href=\"https://colab.research.google.com/github/Rizarumayantidewi/Big-Data-Analysis/blob/main/BERT.ipynb\" target=\"_parent\"><img src=\"https://colab.research.google.com/assets/colab-badge.svg\" alt=\"Open In Colab\"/></a>"
      ]
    },
    {
      "cell_type": "markdown",
      "metadata": {
        "id": "TZxgEJjJkcN5"
      },
      "source": [
        "**Name:** Riza Rumayanti Dewi\n",
        "\n",
        "**Student ID:** 20240130015"
      ]
    },
    {
      "cell_type": "markdown",
      "metadata": {
        "id": "WIKWXvxbkE9I"
      },
      "source": [
        "# Sentiment Analysis with"
      ]
    },
    {
      "cell_type": "markdown",
      "metadata": {
        "id": "d6s6mfrXbI0f"
      },
      "source": [
        "1. Exploration of more advanced deep learning architectural models for sentiment analysis, such as transformers with attention mechanisms\n",
        "\n",
        "2. Combines ensemble learning  techniques to combine predictions from several models to increase accuracy\n",
        "\n",
        "3. Collecting more diverse and larger datasets to imptove the model’s ability to generalize across domains and languages"
      ]
    },
    {
      "cell_type": "markdown",
      "metadata": {
        "id": "nCcVpCAwkhnA"
      },
      "source": [
        "Load Dataset"
      ]
    },
    {
      "cell_type": "code",
      "execution_count": null,
      "metadata": {
        "colab": {
          "base_uri": "https://localhost:8080/"
        },
        "id": "YnXTET7vMbVY",
        "outputId": "910e34f4-ca33-445d-817c-c1a14ae630f0"
      },
      "outputs": [
        {
          "name": "stdout",
          "output_type": "stream",
          "text": [
            "Mounted at /content/drive\n"
          ]
        }
      ],
      "source": [
        "from google.colab import drive\n",
        "drive.mount('/content/drive')"
      ]
    },
    {
      "cell_type": "code",
      "execution_count": null,
      "metadata": {
        "id": "MXyPuojuMnLu"
      },
      "outputs": [],
      "source": [
        "import pandas as pd\n",
        "\n",
        "df_train = pd.read_csv(\"/content/drive/MyDrive/content/train.txt\", delimiter=';', header=None, names=['sentence', 'label'])\n",
        "df_val = pd.read_csv(\"/content/drive/MyDrive/content/val.txt\", delimiter=';', header=None, names=['sentence', 'label'])\n",
        "df_test = pd.read_csv(\"/content/drive/MyDrive/content/test.txt\", delimiter=';', header=None, names=['sentence', 'label'])\n",
        "\n",
        "# Data Validation\n",
        "df = pd.concat([df_train, df_test, df_val])"
      ]
    },
    {
      "cell_type": "markdown",
      "metadata": {
        "id": "zTxy3zQck_rj"
      },
      "source": [
        "The distribution pf the number of labels"
      ]
    },
    {
      "cell_type": "code",
      "execution_count": null,
      "metadata": {
        "colab": {
          "base_uri": "https://localhost:8080/",
          "height": 527
        },
        "id": "6J71uPA-MllW",
        "outputId": "cf9f622c-0176-4eec-fea4-89af0ccbc1f8"
      },
      "outputs": [
        {
          "name": "stderr",
          "output_type": "stream",
          "text": [
            "<ipython-input-4-e37a81d1bff5>:10: UserWarning: No artists with labels found to put in legend.  Note that artists whose label start with an underscore are ignored when legend() is called with no argument.\n",
            "  plt.legend(loc='upper right') #\n"
          ]
        },
        {
          "data": {
            "image/png": "[encoded data removed]",
            "text/plain": [
              "<Figure size 640x480 with 1 Axes>"
            ]
          },
          "metadata": {},
          "output_type": "display_data"
        }
      ],
      "source": [
        "import seaborn as sns\n",
        "import matplotlib.pyplot as plt\n",
        "\n",
        "# Definisikan palet warna\n",
        "colors = [\"#FF5733\", \"#33FFC4\", \"#338AFF\", \"#C833FF\", \"#FF33E6\", \"#33FF57\"]\n",
        "\n",
        "# Buat plot menggunakan palet warna yang ditentukan\n",
        "sns.countplot(x='label', data=df,  palette=colors, hue='label')\n",
        "plt.title('Class Distribution')\n",
        "plt.legend(loc='upper right') #\n",
        "plt.show()"
      ]
    },
    {
      "cell_type": "markdown",
      "metadata": {
        "id": "e2nXq7ldmBLk"
      },
      "source": [
        "Pre-Processing Dataset"
      ]
    },
    {
      "cell_type": "code",
      "execution_count": null,
      "metadata": {
        "id": "ipueNUavMlYd"
      },
      "outputs": [],
      "source": [
        "import pandas as pd\n",
        "import numpy as np\n",
        "\n",
        "# Assuming you have a DataFrame 'df' with a column named 'label'\n",
        "\n",
        "# 1. Determine the minimum sample size\n",
        "MIN_SIZE = np.min(df['label'].value_counts())\n",
        "\n",
        "# 2. Shuffle the dataset\n",
        "df_shuffled = df.sample(frac=1, random_state=9)\n",
        "\n",
        "# 3. Separate data by class\n",
        "joy = df_shuffled[df_shuffled['label'] == 'joy']\n",
        "sadness = df_shuffled[df_shuffled['label'] == 'sadness']\n",
        "anger = df_shuffled[df_shuffled['label'] == 'anger']\n",
        "fear = df_shuffled[df_shuffled['label'] == 'fear']\n",
        "love = df_shuffled[df_shuffled['label'] == 'love']\n",
        "surprise = df_shuffled[df_shuffled['label'] == 'surprise']\n",
        "\n",
        "# 4. Randomly sample data from each class\n",
        "joy_under = joy.sample(MIN_SIZE)\n",
        "sadness_under = sadness.sample(MIN_SIZE)\n",
        "anger_under = anger.sample(MIN_SIZE)\n",
        "fear_under = fear.sample(MIN_SIZE)\n",
        "love_under = love.sample(MIN_SIZE)\n",
        "surprise_under = surprise.sample(MIN_SIZE)\n",
        "\n",
        "# 5. Concatenate the undersampled data\n",
        "df_under = pd.concat([joy_under, sadness_under, anger_under, fear_under, love_under, surprise_under])"
      ]
    },
    {
      "cell_type": "code",
      "execution_count": null,
      "metadata": {
        "id": "PaBR36ShMlRG"
      },
      "outputs": [],
      "source": [
        "# Mengacak posisi baris dalam DataFrame\n",
        "df_shuffled = df_under.sample(frac=1, random_state=42).reset_index(drop=True)\n",
        "\n",
        "# Reset index setelah pengacakan\n",
        "df_shuffled.reset_index(drop=True, inplace=True)"
      ]
    },
    {
      "cell_type": "code",
      "execution_count": null,
      "metadata": {
        "colab": {
          "base_uri": "https://localhost:8080/",
          "height": 770
        },
        "id": "Sky4aEvpmbuw",
        "outputId": "a3d3c49e-f4ec-40d9-93ae-08689bc6575d"
      },
      "outputs": [
        {
          "name": "stdout",
          "output_type": "stream",
          "text": [
            "                                            sentence     label\n",
            "0           i get the feeling that i impressed ecker  surprise\n",
            "1  i was still looking out for good causes that i...      love\n",
            "2  i feel no need to offer it though i do feel a ...      fear\n",
            "3  i recognize most of the frequent posters and n...   sadness\n",
            "4  i really dont like quinn because i feel like s...     anger\n",
            "label\n",
            "surprise    719\n",
            "love        719\n",
            "fear        719\n",
            "sadness     719\n",
            "anger       719\n",
            "joy         719\n",
            "Name: count, dtype: int64\n"
          ]
        },
        {
          "name": "stderr",
          "output_type": "stream",
          "text": [
            "<ipython-input-7-f9b08ea2dd41>:10: UserWarning: No artists with labels found to put in legend.  Note that artists whose label start with an underscore are ignored when legend() is called with no argument.\n",
            "  plt.legend(loc='upper right') #\n"
          ]
        },
        {
          "data": {
            "image/png": "[encoded data removed]",
            "text/plain": [
              "<Figure size 640x480 with 1 Axes>"
            ]
          },
          "metadata": {},
          "output_type": "display_data"
        }
      ],
      "source": [
        "# Display the first few rows of the downsampled and shuffled DataFrame\n",
        "print(df_shuffled.head())\n",
        "\n",
        "# Display the class distribution of the downsampled DataFrame\n",
        "print(df_shuffled['label'].value_counts())\n",
        "\n",
        "#show the plot\n",
        "sns.countplot(x='label', data=df,  palette=colors, hue='label')\n",
        "plt.title('Class Distribution')\n",
        "plt.legend(loc='upper right') #\n",
        "plt.show()"
      ]
    },
    {
      "cell_type": "code",
      "execution_count": null,
      "metadata": {
        "id": "XCsutvRdMlBw"
      },
      "outputs": [],
      "source": [
        "df_shuffled['label_num'] = df_shuffled['label'].map({\n",
        "    'joy': 0,\n",
        "    'sadness': 1,\n",
        "    'anger': 2,\n",
        "    'fear': 3,\n",
        "    'love': 4,\n",
        "    'surprise': 5\n",
        "})"
      ]
    },
    {
      "cell_type": "code",
      "execution_count": null,
      "metadata": {
        "colab": {
          "base_uri": "https://localhost:8080/"
        },
        "id": "tILuH9t1Yab1",
        "outputId": "953495a6-2f8b-4b74-c3bd-852d2d817af9"
      },
      "outputs": [
        {
          "name": "stdout",
          "output_type": "stream",
          "text": [
            "                                            sentence     label  label_num\n",
            "0           i get the feeling that i impressed ecker  surprise          5\n",
            "1  i was still looking out for good causes that i...      love          4\n",
            "2  i feel no need to offer it though i do feel a ...      fear          3\n",
            "3  i recognize most of the frequent posters and n...   sadness          1\n",
            "4  i really dont like quinn because i feel like s...     anger          2\n"
          ]
        }
      ],
      "source": [
        "# Display the first few rows of the downsampled and shuffled DataFrame\n",
        "print(df_shuffled.head())\n",
        "\n",
        "#show the plot\n",
        "plt.show()"
      ]
    },
    {
      "cell_type": "markdown",
      "metadata": {
        "id": "5Am6EvHhnNO4"
      },
      "source": [
        "text representation"
      ]
    },
    {
      "cell_type": "code",
      "execution_count": null,
      "metadata": {
        "id": "ihyF8mPOMkhB"
      },
      "outputs": [],
      "source": [
        "import spacy\n",
        "\n",
        "nlp = spacy.load(\"en_core_web_sm\")\n",
        "\n",
        "def preprocess(text):\n",
        "    # Konversi teks menjadi huruf kecil\n",
        "    text = text.lower()\n",
        "\n",
        "    doc = nlp(text)\n",
        "    filtered_tokens = []\n",
        "\n",
        "    for token in doc:\n",
        "        if token.is_stop or token.is_punct:\n",
        "            continue\n",
        "        else:\n",
        "            filtered_tokens.append(token.lemma_)\n",
        "\n",
        "    return \" \".join(filtered_tokens)"
      ]
    },
    {
      "cell_type": "code",
      "execution_count": null,
      "metadata": {
        "id": "DMvs-MDTUhX_"
      },
      "outputs": [],
      "source": [
        "df_shuffled['processed_text'] = df_shuffled[\"sentence\"].apply(preprocess)"
      ]
    },
    {
      "cell_type": "code",
      "execution_count": null,
      "metadata": {
        "id": "KeaFwrlxUhS4"
      },
      "outputs": [],
      "source": [
        "from sklearn.model_selection import train_test_split\n",
        "\n",
        "X_train, X_test, y_train, y_test = train_test_split(\n",
        "    df_shuffled['processed_text'],\n",
        "    df_shuffled['label_num'],\n",
        "    test_size=0.2,\n",
        "    random_state=42\n",
        ")"
      ]
    },
    {
      "cell_type": "markdown",
      "metadata": {
        "id": "ydC0DGiAnn0q"
      },
      "source": [
        "KNN Method"
      ]
    },
    {
      "cell_type": "code",
      "execution_count": null,
      "metadata": {
        "colab": {
          "base_uri": "https://localhost:8080/"
        },
        "id": "zHU1mSp2n93-",
        "outputId": "9259ec42-5340-422d-8e28-1e8a76051d79"
      },
      "outputs": [
        {
          "name": "stdout",
          "output_type": "stream",
          "text": [
            "              precision    recall  f1-score   support\n",
            "\n",
            "           0       0.62      0.68      0.65       142\n",
            "           1       0.68      0.72      0.70       142\n",
            "           2       0.72      0.78      0.75       146\n",
            "           3       0.73      0.64      0.68       157\n",
            "           4       0.70      0.60      0.65       139\n",
            "           5       0.70      0.72      0.71       137\n",
            "\n",
            "    accuracy                           0.69       863\n",
            "   macro avg       0.69      0.69      0.69       863\n",
            "weighted avg       0.69      0.69      0.69       863\n",
            "\n"
          ]
        }
      ],
      "source": [
        "from sklearn.neighbors import KNeighborsClassifier\n",
        "from sklearn.pipeline import Pipeline\n",
        "from sklearn.metrics import classification_report\n",
        "from sklearn.feature_extraction.text import TfidfVectorizer\n",
        "\n",
        "clf_knn = Pipeline([\n",
        "    ('vectorizer_tfidf', TfidfVectorizer()),\n",
        "    ('KNN', KNeighborsClassifier())\n",
        "])\n",
        "\n",
        "clf_knn.fit(X_train, y_train)\n",
        "\n",
        "y_pred_knn = clf_knn.predict(X_test)\n",
        "\n",
        "print(classification_report(y_test, y_pred_knn))"
      ]
    },
    {
      "cell_type": "markdown",
      "metadata": {
        "id": "l_LyMLd6nqnZ"
      },
      "source": [
        "Naive Bayes"
      ]
    },
    {
      "cell_type": "code",
      "execution_count": null,
      "metadata": {
        "colab": {
          "base_uri": "https://localhost:8080/"
        },
        "id": "txZ6cg1uqnIK",
        "outputId": "772c4a1c-2ef4-4841-ef05-285a6b5fed42"
      },
      "outputs": [
        {
          "name": "stdout",
          "output_type": "stream",
          "text": [
            "              precision    recall  f1-score   support\n",
            "\n",
            "           0       0.78      0.66      0.72       142\n",
            "           1       0.85      0.75      0.80       142\n",
            "           2       0.82      0.88      0.84       146\n",
            "           3       0.85      0.73      0.78       157\n",
            "           4       0.75      0.83      0.79       139\n",
            "           5       0.71      0.89      0.79       137\n",
            "\n",
            "    accuracy                           0.79       863\n",
            "   macro avg       0.79      0.79      0.79       863\n",
            "weighted avg       0.79      0.79      0.79       863\n",
            "\n"
          ]
        }
      ],
      "source": [
        "from sklearn.naive_bayes import MultinomialNB\n",
        "from sklearn.pipeline import Pipeline\n",
        "from sklearn.metrics import classification_report\n",
        "from sklearn.feature_extraction.text import TfidfVectorizer\n",
        "\n",
        "clf_nb = Pipeline([\n",
        "    ('vectorizer_tfidf', TfidfVectorizer()),\n",
        "    ('Multi_NB', MultinomialNB())\n",
        "])\n",
        "\n",
        "clf_nb.fit(X_train, y_train)\n",
        "\n",
        "y_pred_nb = clf_nb.predict(X_test)\n",
        "\n",
        "print(classification_report(y_test, y_pred_nb))"
      ]
    },
    {
      "cell_type": "markdown",
      "metadata": {
        "id": "np-7_fbfnsQ5"
      },
      "source": [
        "Random Forest"
      ]
    },
    {
      "cell_type": "code",
      "execution_count": null,
      "metadata": {
        "colab": {
          "base_uri": "https://localhost:8080/"
        },
        "id": "rl8-OQLxrTML",
        "outputId": "09b9187b-b276-4fea-f82d-485141eee04e"
      },
      "outputs": [
        {
          "name": "stdout",
          "output_type": "stream",
          "text": [
            "              precision    recall  f1-score   support\n",
            "\n",
            "           0       0.66      0.78      0.72       142\n",
            "           1       0.79      0.80      0.79       142\n",
            "           2       0.91      0.79      0.85       146\n",
            "           3       0.93      0.73      0.81       157\n",
            "           4       0.80      0.85      0.83       139\n",
            "           5       0.86      0.96      0.91       137\n",
            "\n",
            "    accuracy                           0.82       863\n",
            "   macro avg       0.82      0.82      0.82       863\n",
            "weighted avg       0.83      0.82      0.82       863\n",
            "\n"
          ]
        }
      ],
      "source": [
        "from sklearn.ensemble import RandomForestClassifier\n",
        "from sklearn.pipeline import Pipeline\n",
        "from sklearn.metrics import classification_report\n",
        "from sklearn.feature_extraction.text import TfidfVectorizer\n",
        "\n",
        "clf_rf = Pipeline([\n",
        "    ('vectorizer_tfidf', TfidfVectorizer()),\n",
        "    ('Random Forest', RandomForestClassifier())\n",
        "])\n",
        "\n",
        "clf_rf.fit(X_train, y_train)\n",
        "\n",
        "y_pred_rf = clf_rf.predict(X_test)\n",
        "\n",
        "print(classification_report(y_test, y_pred_rf))"
      ]
    },
    {
      "cell_type": "markdown",
      "metadata": {
        "id": "j05c_q1LnuOo"
      },
      "source": [
        "Logistic Regression"
      ]
    },
    {
      "cell_type": "code",
      "execution_count": null,
      "metadata": {
        "colab": {
          "base_uri": "https://localhost:8080/"
        },
        "id": "YoOrvVI3UhOe",
        "outputId": "572f5232-c112-4fb7-9b0a-de934b26f1c1"
      },
      "outputs": [
        {
          "name": "stdout",
          "output_type": "stream",
          "text": [
            "              precision    recall  f1-score   support\n",
            "\n",
            "           0       0.76      0.76      0.76       142\n",
            "           1       0.81      0.83      0.82       142\n",
            "           2       0.86      0.86      0.86       146\n",
            "           3       0.87      0.76      0.81       157\n",
            "           4       0.82      0.84      0.83       139\n",
            "           5       0.86      0.93      0.90       137\n",
            "\n",
            "    accuracy                           0.83       863\n",
            "   macro avg       0.83      0.83      0.83       863\n",
            "weighted avg       0.83      0.83      0.83       863\n",
            "\n"
          ]
        }
      ],
      "source": [
        "from sklearn.linear_model import LogisticRegression\n",
        "from sklearn.pipeline import Pipeline\n",
        "from sklearn.feature_extraction.text import TfidfVectorizer\n",
        "from sklearn.metrics import classification_report\n",
        "\n",
        "# Definisikan pipeline dengan Logistic Regression\n",
        "clf_lr = Pipeline([\n",
        "    ('vectorizer_tfidf', TfidfVectorizer()),\n",
        "    ('Logistic Regression', LogisticRegression(max_iter=1000, solver='lbfgs'))\n",
        "])\n",
        "\n",
        "# Latih model pada data pelatihan\n",
        "clf_lr.fit(X_train, y_train)\n",
        "\n",
        "# Lakukan prediksi pada data uji\n",
        "y_pred_lr = clf_lr.predict(X_test)\n",
        "\n",
        "# Evaluasi kinerja model\n",
        "print(classification_report(y_test, y_pred_lr))"
      ]
    },
    {
      "cell_type": "markdown",
      "metadata": {
        "id": "zBbnvPzAnwbE"
      },
      "source": [
        "Gradient Boosting"
      ]
    },
    {
      "cell_type": "code",
      "execution_count": null,
      "metadata": {
        "colab": {
          "base_uri": "https://localhost:8080/"
        },
        "id": "mIdNluDQUhJ1",
        "outputId": "a75185fb-3d8c-479a-8a3a-3048bc040b3f"
      },
      "outputs": [
        {
          "name": "stdout",
          "output_type": "stream",
          "text": [
            "              precision    recall  f1-score   support\n",
            "\n",
            "           0       0.55      0.85      0.67       142\n",
            "           1       0.93      0.70      0.80       142\n",
            "           2       0.94      0.81      0.87       146\n",
            "           3       0.94      0.73      0.82       157\n",
            "           4       0.86      0.85      0.85       139\n",
            "           5       0.87      0.96      0.91       137\n",
            "\n",
            "    accuracy                           0.81       863\n",
            "   macro avg       0.85      0.82      0.82       863\n",
            "weighted avg       0.85      0.81      0.82       863\n",
            "\n"
          ]
        }
      ],
      "source": [
        "from sklearn.ensemble import GradientBoostingClassifier\n",
        "from sklearn.pipeline import Pipeline\n",
        "from sklearn.feature_extraction.text import TfidfVectorizer\n",
        "from sklearn.metrics import classification_report\n",
        "\n",
        "# Definisikan pipeline dengan Gradient Boosting Classifier\n",
        "clf_gb = Pipeline([\n",
        "    ('vectorizer_tfidf', TfidfVectorizer()),\n",
        "    ('Gradient_Boosting', GradientBoostingClassifier())\n",
        "])\n",
        "\n",
        "# Latih model pada data pelatihan\n",
        "clf_gb.fit(X_train, y_train)\n",
        "\n",
        "# Lakukan prediksi pada data uji\n",
        "y_pred_gb = clf_gb.predict(X_test)\n",
        "\n",
        "# Evaluasi kinerja model\n",
        "print(classification_report(y_test, y_pred_gb))"
      ]
    },
    {
      "cell_type": "markdown",
      "metadata": {
        "id": "iEaRKdQurouY"
      },
      "source": [
        "Multilayer Perceptron"
      ]
    },
    {
      "cell_type": "code",
      "execution_count": null,
      "metadata": {
        "colab": {
          "base_uri": "https://localhost:8080/"
        },
        "id": "otkYtT4wUhGW",
        "outputId": "74fa5485-b5b4-4000-8836-64210496488f"
      },
      "outputs": [
        {
          "name": "stdout",
          "output_type": "stream",
          "text": [
            "              precision    recall  f1-score   support\n",
            "\n",
            "           0       0.70      0.73      0.71       142\n",
            "           1       0.81      0.78      0.80       142\n",
            "           2       0.82      0.88      0.85       146\n",
            "           3       0.80      0.80      0.80       157\n",
            "           4       0.75      0.72      0.73       139\n",
            "           5       0.79      0.76      0.78       137\n",
            "\n",
            "    accuracy                           0.78       863\n",
            "   macro avg       0.78      0.78      0.78       863\n",
            "weighted avg       0.78      0.78      0.78       863\n",
            "\n"
          ]
        }
      ],
      "source": [
        "from sklearn.neural_network import MLPClassifier\n",
        "from sklearn.pipeline import Pipeline\n",
        "from sklearn.feature_extraction.text import TfidfVectorizer\n",
        "from sklearn.metrics import classification_report\n",
        "\n",
        "# Definisikan pipeline dengan MLPClassifier\n",
        "clf_mp = Pipeline([\n",
        "    ('vectorizer_tfidf', TfidfVectorizer()),\n",
        "    ('MLP', MLPClassifier())\n",
        "])\n",
        "\n",
        "# Latih model pada data pelatihan\n",
        "clf_mp.fit(X_train, y_train)\n",
        "\n",
        "# Lakukan prediksi pada data uji\n",
        "y_pred_mp = clf_mp.predict(X_test)\n",
        "\n",
        "# Evaluasi kinerja model\n",
        "print(classification_report(y_test, y_pred_mp))"
      ]
    },
    {
      "cell_type": "markdown",
      "metadata": {
        "id": "qYUx3S4JsI18"
      },
      "source": [
        "BERT"
      ]
    },
    {
      "cell_type": "code",
      "execution_count": null,
      "metadata": {
        "id": "G9x82kFAUhCA"
      },
      "outputs": [],
      "source": [
        "# Import library yang akan digunakan untuk model BERT\n",
        "from transformers import BertTokenizer, BertForSequenceClassification, AdamW\n",
        "from torch.utils.data import TensorDataset, DataLoader, RandomSampler, SequentialSampler\n",
        "import torch\n",
        "\n",
        "from tqdm import tqdm\n",
        "from sklearn.metrics import accuracy_score, classification_report\n",
        "import matplotlib.pyplot as plt"
      ]
    },
    {
      "cell_type": "code",
      "execution_count": null,
      "metadata": {
        "colab": {
          "base_uri": "https://localhost:8080/",
          "height": 269,
          "referenced_widgets": [
            "de146e88a6204f438b49d736c1f4b827",
            "755e0d3c1b3a41e48303879f61fc83f4",
            "9da0e9b7616d4c9e924696aa257535b3",
            "099f49ce473e4f81bbfa98752cf60b75",
            "82ddefbbcdd04c22bf7658f5181f5a62",
            "22692f9d85e04a85bc74fb15c9d9846f",
            "8ea74f1135a644b08879c245d22f69e1",
            "bdee827265814c43a58adee9c6508f0d",
            "0311d9ce09b7437f8a36e423a881c9f3",
            "5a7abdaede844912b6748647373a2dbb",
            "3bcd75f5ce6b4fb09da690c48ae3f3c8",
            "6c181a72567f4626a900d04eb64c51dd",
            "3b3bbf39929742c59bdbfc061537f068",
            "3711c5e44bab48e792f5ee7922c5e9b7",
            "e39b2d9991b148f8b96eadd20550ee55",
            "86004e92b3344ae880ec52057b257357",
            "edb00bd316014a3e870cffd01ec16511",
            "ecc949ddf0af45429afa3bb91cf751e3",
            "a4f2215b82874f2ba33d57042646869e",
            "2c95bbf957554434833eeed7e77240ee",
            "c9407a31b74c4fefadd0efba8e0fd764",
            "383ad749d1b14925aa39499e98f69869",
            "8d745c6cc3a64b06bde19648772dca3e",
            "bcab8fba4cda4c4fa57745f0fc0f7edb",
            "16f59590bbbf49ed9e6c5f39c63b5f85",
            "4fc25751aff44270921e13f8a52cd79e",
            "6d9bb4f04ee04c248a40f366e83c045d",
            "ab9bd406f1b040349b98a7b3e7ae9484",
            "e6d8a04f73c440fcbb2899425c5ac894",
            "f38c445480ba447094d5d6d276261ca1",
            "43b3a39b78e344ed8c64a6a47a1d2dc3",
            "225d842f95094d31917db231bd02bd59",
            "f82b4ba23ce64ac7a8a80a658b9dd991",
            "655d2d12f0864a6f98c7c6a3a87d31d7",
            "9005ba51ac1349d98d4eefe614349a82",
            "eb822e9aa2cb482cabc051b5b771473c",
            "a120dc40855d4a0685533204d790be64",
            "08077568c09c4fe4aacc11fae1374828",
            "88727cfb72b1409fa79f19f043010382",
            "b92893d6fece452b906670099002c156",
            "e0d07e9403974745981105307aea521f",
            "d42a2cbab4be4497ad5e45e18e1351dd",
            "c1273322ef7a4f4bb6a217def60f07c2",
            "d213cc3e7758449d8d5d4dc523a40228"
          ]
        },
        "id": "Mt6DVVYGUg8D",
        "outputId": "939f5d8f-8896-4328-eddc-a74d6c42eb11"
      },
      "outputs": [
        {
          "name": "stderr",
          "output_type": "stream",
          "text": [
            "/usr/local/lib/python3.11/dist-packages/huggingface_hub/utils/_auth.py:94: UserWarning: \n",
            "The secret `HF_TOKEN` does not exist in your Colab secrets.\n",
            "To authenticate with the Hugging Face Hub, create a token in your settings tab (https://huggingface.co/settings/tokens), set it as secret in your Google Colab and restart your session.\n",
            "You will be able to reuse this secret in all of your notebooks.\n",
            "Please note that authentication is recommended but still optional to access public models or datasets.\n",
            "  warnings.warn(\n"
          ]
        },
        {
          "data": {
            "application/vnd.jupyter.widget-view+json": {
              "model_id": "de146e88a6204f438b49d736c1f4b827",
              "version_major": 2,
              "version_minor": 0
            },
            "text/plain": [
              "tokenizer_config.json:   0%|          | 0.00/48.0 [00:00<?, ?B/s]"
            ]
          },
          "metadata": {},
          "output_type": "display_data"
        },
        {
          "data": {
            "application/vnd.jupyter.widget-view+json": {
              "model_id": "6c181a72567f4626a900d04eb64c51dd",
              "version_major": 2,
              "version_minor": 0
            },
            "text/plain": [
              "vocab.txt:   0%|          | 0.00/232k [00:00<?, ?B/s]"
            ]
          },
          "metadata": {},
          "output_type": "display_data"
        },
        {
          "data": {
            "application/vnd.jupyter.widget-view+json": {
              "model_id": "8d745c6cc3a64b06bde19648772dca3e",
              "version_major": 2,
              "version_minor": 0
            },
            "text/plain": [
              "tokenizer.json:   0%|          | 0.00/466k [00:00<?, ?B/s]"
            ]
          },
          "metadata": {},
          "output_type": "display_data"
        },
        {
          "data": {
            "application/vnd.jupyter.widget-view+json": {
              "model_id": "655d2d12f0864a6f98c7c6a3a87d31d7",
              "version_major": 2,
              "version_minor": 0
            },
            "text/plain": [
              "config.json:   0%|          | 0.00/570 [00:00<?, ?B/s]"
            ]
          },
          "metadata": {},
          "output_type": "display_data"
        }
      ],
      "source": [
        "# Tokenisasi teks menggunakan tokenizer BERT\n",
        "tokenizer = BertTokenizer.from_pretrained('bert-base-uncased')\n",
        "\n",
        "# Pisahkan data menjadi set pelatihan, validasi, dan uji\n",
        "from sklearn.model_selection import train_test_split\n",
        "train_texts, val_texts, train_labels, val_labels = train_test_split(\n",
        "    df_shuffled['processed_text'],\n",
        "    df_shuffled['label_num'],\n",
        "    test_size=0.2,\n",
        "    random_state=42\n",
        ")\n",
        "\n",
        "# Tokenisasi teks dan konversi menjadi tensors\n",
        "train_encodings = tokenizer(list(train_texts), truncation=True, padding=True, max_length=128, return_tensors='pt')\n",
        "val_encodings = tokenizer(list(val_texts), truncation=True, padding=True, max_length=128, return_tensors='pt')\n",
        "\n",
        "# Buat dataset PyTorch\n",
        "train_dataset = TensorDataset(train_encodings['input_ids'], train_encodings['attention_mask'], torch.tensor(train_labels.reset_index(drop=True)))\n",
        "val_dataset = TensorDataset(val_encodings['input_ids'], val_encodings['attention_mask'], torch.tensor(val_labels.reset_index(drop=True)))"
      ]
    },
    {
      "cell_type": "code",
      "execution_count": null,
      "metadata": {
        "colab": {
          "base_uri": "https://localhost:8080/",
          "height": 138,
          "referenced_widgets": [
            "4ff32d734c144144bba2468f31eaa303",
            "7276c401861d4c409b380cda2be65bd3",
            "3360f398133b428ba9612fd45a783e76",
            "d8eff168f3b5473c826e4ae80241add1",
            "d4cd322181ef4bac9faf4678aac31606",
            "d494272784f340cfbbdc5b69eda81122",
            "fb07beb296664d1da6b1251d4220a791",
            "6eaf5436e00e41658c982aa319fb843d",
            "e406f7321abe477ba7a9e2e4042337b8",
            "38183c18dbf14648a51e9cb2b7aa9811",
            "a848e2e69c4142d5922a8cf7e6714d7c"
          ]
        },
        "id": "nKvw-n5sUgv-",
        "outputId": "844e6342-2a0a-4c80-c0a1-7450816a5f8e"
      },
      "outputs": [
        {
          "data": {
            "application/vnd.jupyter.widget-view+json": {
              "model_id": "4ff32d734c144144bba2468f31eaa303",
              "version_major": 2,
              "version_minor": 0
            },
            "text/plain": [
              "model.safetensors:   0%|          | 0.00/440M [00:00<?, ?B/s]"
            ]
          },
          "metadata": {},
          "output_type": "display_data"
        },
        {
          "name": "stderr",
          "output_type": "stream",
          "text": [
            "Some weights of BertForSequenceClassification were not initialized from the model checkpoint at bert-base-uncased and are newly initialized: ['classifier.bias', 'classifier.weight']\n",
            "You should probably TRAIN this model on a down-stream task to be able to use it for predictions and inference.\n",
            "/usr/local/lib/python3.11/dist-packages/transformers/optimization.py:591: FutureWarning: This implementation of AdamW is deprecated and will be removed in a future version. Use the PyTorch implementation torch.optim.AdamW instead, or set `no_deprecation_warning=True` to disable this warning\n",
            "  warnings.warn(\n"
          ]
        }
      ],
      "source": [
        "# Buat DataLoader\n",
        "train_loader = DataLoader(train_dataset, batch_size=16, shuffle=True)\n",
        "val_loader = DataLoader(val_dataset, batch_size=16, shuffle=False)\n",
        "\n",
        "# Inisialisasi model BERT untuk klasifikasi\n",
        "model = BertForSequenceClassification.from_pretrained('bert-base-uncased',\n",
        "                                                    num_labels=len(df_shuffled['label_num'].unique()))\n",
        "\n",
        "# Tentukan optimizer\n",
        "optimizer = AdamW(model.parameters(), lr=5e-5)\n",
        "\n",
        "# Tentukan device\n",
        "device = torch.device('cuda' if torch.cuda.is_available() else 'cpu')\n",
        "model.to(device)\n",
        "\n",
        "# Inisialisasi list untuk menyimpan nilai loss dan akurasi\n",
        "train_losses = []\n",
        "val_accuracies = []"
      ]
    },
    {
      "cell_type": "code",
      "execution_count": null,
      "metadata": {
        "colab": {
          "background_save": true,
          "base_uri": "https://localhost:8080/"
        },
        "id": "tI7GPAjgUgQq",
        "outputId": "b1abfea0-e9d8-40e6-d3f5-3adf7fdaee4c"
      },
      "outputs": [
        {
          "name": "stderr",
          "output_type": "stream",
          "text": [
            "100%|██████████| 216/216 [31:44<00:00,  8.82s/it]\n"
          ]
        }
      ],
      "source": [
        "# Pelatihan model\n",
        "epochs = 1\n",
        "\n",
        "for epoch in range(epochs):\n",
        "    model.train()\n",
        "    train_loss = 0\n",
        "\n",
        "    for batch in tqdm(train_loader):\n",
        "        input_ids = batch[0].to(device)\n",
        "        attention_mask = batch[1].to(device)\n",
        "        labels = batch[2].to(device)\n",
        "\n",
        "        # Kode pelatihan yang ada\n",
        "        optimizer.zero_grad()\n",
        "        outputs = model(input_ids, attention_mask=attention_mask, labels=labels)\n",
        "\n",
        "        loss = outputs.loss\n",
        "        train_loss += loss.item()\n",
        "\n",
        "        loss.backward()\n",
        "        optimizer.step()\n",
        "\n",
        "    avg_train_loss = train_loss / len(train_loader)\n",
        "    train_losses.append(avg_train_loss)  # Simpan nilai loss pada setiap epoch"
      ]
    },
    {
      "cell_type": "code",
      "execution_count": null,
      "metadata": {
        "colab": {
          "background_save": true
        },
        "id": "2RoXTz4Ms4jn",
        "outputId": "4a5c6624-3c7d-448a-d288-a4def8212c09"
      },
      "outputs": [
        {
          "name": "stdout",
          "output_type": "stream",
          "text": [
            "Epoch 1/1, Average Training Loss: 0.9979, Validation Accuracy: 0.8714\n"
          ]
        }
      ],
      "source": [
        "# Evaluasi model pada set validasi\n",
        "model.eval()\n",
        "\n",
        "val_preds = []\n",
        "val_true = []\n",
        "\n",
        "for batch in val_loader:\n",
        "    # Kode evaluasi yang ada\n",
        "    with torch.no_grad():\n",
        "        input_ids = batch[0].to(device)\n",
        "        attention_mask = batch[1].to(device)\n",
        "        labels = batch[2].to('cpu')\n",
        "\n",
        "        outputs = model(input_ids, attention_mask=attention_mask)\n",
        "        logits = outputs.logits\n",
        "\n",
        "        preds = torch.argmax(logits, dim=1).tolist()\n",
        "        val_preds.extend(preds)\n",
        "        val_true.extend(labels.tolist())\n",
        "\n",
        "val_accuracy = accuracy_score(val_true, val_preds)\n",
        "val_accuracies.append(val_accuracy)  # Simpan nilai akurasi pada setiap epoch\n",
        "\n",
        "print(f'Epoch {(epoch + 1)}/{epochs}, Average Training Loss: {avg_train_loss:.4f}, Validation Accuracy: {val_accuracy:.4f}')"
      ]
    },
    {
      "cell_type": "code",
      "execution_count": null,
      "metadata": {
        "colab": {
          "background_save": true
        },
        "id": "DI0qeoZGtI6H",
        "outputId": "eeac9f7c-f76a-454c-b30e-c79f47c8d749"
      },
      "outputs": [
        {
          "data": {
            "image/png": "[encoded data removed]",
            "text/plain": [
              "<Figure size 1000x500 with 1 Axes>"
            ]
          },
          "metadata": {},
          "output_type": "display_data"
        }
      ],
      "source": [
        "# Gambar grafik perubahan loss dan akurasi selama pelatihan\n",
        "plt.figure(figsize=(10, 5))\n",
        "\n",
        "plt.plot(range(1, len(train_losses) + 1), train_losses, label='Training Loss')\n",
        "\n",
        "plt.plot(range(1, len(val_accuracies) + 1), val_accuracies, label='Validation Accuracy')\n",
        "\n",
        "plt.xlabel('Epoch')\n",
        "plt.ylabel('Value')\n",
        "plt.title('Training Loss and Validation Accuracy')\n",
        "\n",
        "plt.legend()\n",
        "plt.show()"
      ]
    },
    {
      "cell_type": "markdown",
      "metadata": {
        "id": "NdfVpHNtutXS"
      },
      "source": [
        "Evaluate the model on the test set"
      ]
    },
    {
      "cell_type": "code",
      "execution_count": null,
      "metadata": {
        "colab": {
          "background_save": true
        },
        "id": "SCSC5iqItIr4",
        "outputId": "f4e50427-1766-4737-e4a8-81a71e2e8ce1"
      },
      "outputs": [
        {
          "name": "stdout",
          "output_type": "stream",
          "text": [
            "Test Accuracy: 0.8866\n",
            "              precision    recall  f1-score   support\n",
            "\n",
            "           0       0.92      0.76      0.84       719\n",
            "           1       0.91      0.90      0.90       719\n",
            "           2       0.95      0.86      0.91       719\n",
            "           3       0.93      0.83      0.88       719\n",
            "           4       0.78      0.97      0.86       719\n",
            "           5       0.88      0.99      0.93       719\n",
            "\n",
            "    accuracy                           0.89      4314\n",
            "   macro avg       0.89      0.89      0.89      4314\n",
            "weighted avg       0.89      0.89      0.89      4314\n",
            "\n"
          ]
        }
      ],
      "source": [
        "# Evaluasi model pada set uji\n",
        "test_texts = df_shuffled['processed_text']\n",
        "test_labels = df_shuffled['label_num']\n",
        "\n",
        "test_encodings = tokenizer(list(test_texts), truncation=True, padding=True,\n",
        "                           max_length=128, return_tensors='pt')\n",
        "\n",
        "test_dataset = TensorDataset(test_encodings['input_ids'],\n",
        "                             test_encodings['attention_mask'],\n",
        "                             torch.tensor(test_labels))\n",
        "\n",
        "test_loader = DataLoader(test_dataset, batch_size=16, shuffle=False)\n",
        "\n",
        "model.eval()\n",
        "test_preds = []\n",
        "test_true = []\n",
        "\n",
        "for batch in test_loader:\n",
        "    input_ids = batch[0].to(device)\n",
        "    attention_mask = batch[1].to(device)\n",
        "    labels = batch[2].to('cpu')\n",
        "\n",
        "    with torch.no_grad():\n",
        "        outputs = model(input_ids, attention_mask=attention_mask)\n",
        "        logits = outputs.logits\n",
        "        preds = torch.argmax(logits, dim=1).tolist()\n",
        "        test_preds.extend(preds)\n",
        "        test_true.extend(labels.tolist())\n",
        "\n",
        "# Evaluasi kinerja model pada data uji\n",
        "test_accuracy = accuracy_score(test_true, test_preds)\n",
        "print(f'Test Accuracy: {test_accuracy:.4f}')\n",
        "print(classification_report(test_true, test_preds))"
      ]
    },
    {
      "cell_type": "code",
      "execution_count": null,
      "metadata": {
        "colab": {
          "background_save": true
        },
        "id": "i2xvzxOFtIfN",
        "outputId": "e9e7b0a9-4db5-4197-b300-c4c0f40f34ce"
      },
      "outputs": [
        {
          "name": "stdout",
          "output_type": "stream",
          "text": [
            "Test Accuracy: 0.8867\n",
            "              precision    recall  f1-score   support\n",
            "\n",
            "         joy       0.92      0.76      0.84       721\n",
            "     sadness       0.91      0.90      0.90       721\n",
            "       anger       0.95      0.86      0.91       720\n",
            "        fear       0.93      0.83      0.88       719\n",
            "        love       0.78      0.97      0.86       723\n",
            "    surprise       0.88      0.99      0.93       720\n",
            "\n",
            "    accuracy                           0.89      4324\n",
            "   macro avg       0.89      0.89      0.89      4324\n",
            "weighted avg       0.89      0.89      0.89      4324\n",
            "\n"
          ]
        }
      ],
      "source": [
        "with torch.no_grad():\n",
        "    outputs = model(input_ids, attention_mask=attention_mask)\n",
        "    logits = outputs.logits\n",
        "    preds = torch.argmax(logits, dim=1).tolist()\n",
        "    test_preds.extend(preds)\n",
        "    test_true.extend(labels.tolist())\n",
        "\n",
        "# Define label dictionary\n",
        "label_dict = {'joy': 0, 'sadness': 1, 'anger': 2, 'fear': 3, 'love': 4, 'surprise': 5}\n",
        "\n",
        "test_accuracy = accuracy_score(test_true, test_preds)\n",
        "print(f'Test Accuracy: {test_accuracy:.4f}')\n",
        "\n",
        "# Tampilkan classification report\n",
        "print(classification_report(test_true, test_preds, target_names=label_dict.keys()))"
      ]
    },
    {
      "cell_type": "markdown",
      "metadata": {
        "id": "pHmHPVxBdesT"
      },
      "source": [
        "assess the sentiment of a sentence."
      ]
    },
    {
      "cell_type": "code",
      "execution_count": null,
      "metadata": {
        "colab": {
          "background_save": true
        },
        "id": "cC5wGvRFuyyZ"
      },
      "outputs": [],
      "source": [
        "def predict_sentiment_or_emotion(model, tokenizer, text):\n",
        "  if isinstance(model, BertForSequenceClassification):\n",
        "    # Tokenisasi teks baru\n",
        "    encoded_text = tokenizer(text, truncation=True, padding=True, max_length=128, return_tensors='pt')\n",
        "\n",
        "    # Kirim ke perangkat yang sesuai\n",
        "    input_ids = encoded_text['input_ids'].to(device)\n",
        "    attention_mask = encoded_text['attention_mask'].to(device)\n",
        "\n",
        "    # Prediksi sentimen\n",
        "    with torch.no_grad():\n",
        "      outputs = model(input_ids, attention_mask=attention_mask)\n",
        "      logits = outputs.logits\n",
        "\n",
        "      # ... (Rest of the prediction logic)\n",
        "  else:\n",
        "    # Handle other model types if needed\n",
        "    pass"
      ]
    },
    {
      "cell_type": "code",
      "execution_count": null,
      "metadata": {
        "colab": {
          "background_save": true
        },
        "id": "V4dO6qO6uzNU",
        "outputId": "73355ba5-866d-45fe-eab8-1ee8d77a0c17"
      },
      "outputs": [
        {
          "ename": "IndentationError",
          "evalue": "unexpected indent (<ipython-input-28-edd17e76c538>, line 2)",
          "output_type": "error",
          "traceback": [
            "\u001b[0;36m  File \u001b[0;32m\"<ipython-input-28-edd17e76c538>\"\u001b[0;36m, line \u001b[0;32m2\u001b[0m\n\u001b[0;31m    predicted_class = torch.argmax(logits, dim=1).item()\u001b[0m\n\u001b[0m    ^\u001b[0m\n\u001b[0;31mIndentationError\u001b[0m\u001b[0;31m:\u001b[0m unexpected indent\n"
          ]
        }
      ],
      "source": [
        "# Ambil label kelas dengan nilai tertinggi sebagai sentimen prediksi\n",
        "  predicted_class = torch.argmax(logits, dim=1).item()\n",
        "\n",
        "# Ubah kembali indeks ke label sentimen\n",
        "  sentiment_mapping = {idx: label for label, idx in label_dict.items()}  # Assuming label_dict is defined elsewhere\n",
        "  predicted_sentiment = sentiment_mapping[predicted_class]\n",
        "\n",
        "  return predicted_sentiment\n",
        "\n",
        "  else:  # Jika model machine learning\n",
        "    processed_text = preprocess(text)  # Asumsikan fungsi preprocess sudah didefinisikan\n",
        "    emotion_label = model.predict([processed_text])[0]\n",
        "\n",
        "    # Ubah label numerik menjadi label teks\n",
        "    emotion_mapping = {0: 'joy', 1: 'sadness', 2: 'anger', 3: 'fear', 4: 'love', 5: 'surprise'}\n",
        "    predicted_emotion = emotion_mapping[emotion_label]\n",
        "\n",
        "  return predicted_emotion"
      ]
    },
    {
      "cell_type": "markdown",
      "metadata": {
        "id": "q31F2WN5dkWy"
      },
      "source": [
        "include a snippet of the lyrics to a song from the My Chemical Romance Band entitled Cancer, namely 'The Hardest Part of This is Leaving You'."
      ]
    },
    {
      "cell_type": "code",
      "execution_count": null,
      "metadata": {
        "colab": {
          "background_save": true
        },
        "id": "m67OAo5J1Tff"
      },
      "outputs": [],
      "source": [
        "# Memilih model transformer (BERT) untuk prediksi sentimen\n",
        "sentence = \"The Hardest Part of This is leaving you\"\n",
        "\n",
        "print(sentence)\n",
        "\n",
        "print(\"-\" * 50)  # Print a line of dashes for visual separation\n",
        "\n",
        "predicted_sentiment = predict_sentiment_or_emotion(model, tokenizer, sentence)\n",
        "print(\"Predicted Sentiment (BERT):\", predicted_sentiment)\n",
        "\n",
        "# Memilih model machine learning (Random Forest) untuk prediksi emosi\n",
        "predicted_emotion = predict_sentiment_or_emotion(clf_rf, None, sentence)\n",
        "print(\"Predicted Sentiment (Random Forest):\", predicted_emotion)\n",
        "\n",
        "# Memilih model machine learning (K Nearest Neighbour) untuk prediksi emosi\n",
        "predicted_emotion = predict_sentiment_or_emotion(clf_knn, None, sentence)\n",
        "print(\"Predicted Sentiment (KNN):\", predicted_emotion)"
      ]
    },
    {
      "cell_type": "code",
      "execution_count": null,
      "metadata": {
        "colab": {
          "background_save": true
        },
        "id": "ZmXR-PiG1YMI"
      },
      "outputs": [],
      "source": [
        "# Memilih model machine learning (Naive Bayes) untuk prediksi emosi\n",
        "predicted_emotion = predict_sentiment_or_emotion(clf_nb, None, sentence)\n",
        "print(\"Predicted Sentiment (Naive Bayes):\", predicted_emotion)\n",
        "\n",
        "# Memilih model machine learning (Logistic Regression) untuk prediksi emosi\n",
        "predicted_emotion = predict_sentiment_or_emotion(clf_lr, None, sentence)\n",
        "print(\"Predicted Sentiment (Logistic Regression):\", predicted_emotion)\n",
        "\n",
        "# Memilih model machine learning (Gradient Boosting) untuk prediksi emosi\n",
        "predicted_emotion = predict_sentiment_or_emotion(clf_gb, None, sentence)\n",
        "print(\"Predicted Sentiment (Gradient Boosting):\", predicted_emotion)\n",
        "\n",
        "# Memilih model machine learning (Multi Layer Perceptron) untuk prediksi emosi\n",
        "predicted_emotion = predict_sentiment_or_emotion(clf_mp, None, sentence)\n",
        "print(\"Predicted Sentiment (Multi Layer Perceptron):\", predicted_emotion)"
      ]
    },
    {
      "cell_type": "markdown",
      "metadata": {
        "id": "1NBxbJV8emC6"
      },
      "source": [
        "implementation ensemble learning and evaluation validation in epoch"
      ]
    },
    {
      "cell_type": "code",
      "execution_count": null,
      "metadata": {
        "colab": {
          "background_save": true
        },
        "id": "ISnBYMuQeuST"
      },
      "outputs": [],
      "source": [
        "from sklearn.ensemble import VotingClassifier\n",
        "\n",
        "# Ensemble dengan VotingClassifier\n",
        "ensemble_clf = VotingClassifier(\n",
        "    estimators=[\n",
        "        ('KNN', clf_knn),\n",
        "        ('Naive_Bayes', clf_nb),\n",
        "        ('Random_Forest', clf_rf),\n",
        "        ('Logistic_Regression', clf_lr),\n",
        "        ('Gradient_Boosting', clf_gb),\n",
        "        ('MLP', clf_mp)\n",
        "    ],\n",
        "    voting='soft'\n",
        ")\n",
        "\n",
        "# Latih ensemble classifier\n",
        "ensemble_clf.fit(X_train, y_train)\n",
        "\n",
        "# Prediksi dan evaluasi\n",
        "y_pred_ensemble = ensemble_clf.predict(X_test)\n",
        "print(classification_report(y_test, y_pred_ensemble))"
      ]
    },
    {
      "cell_type": "markdown",
      "metadata": {
        "id": "rGqELMdveyZV"
      },
      "source": [
        "evaluation loop training BERT"
      ]
    },
    {
      "cell_type": "code",
      "execution_count": null,
      "metadata": {
        "colab": {
          "background_save": true
        },
        "id": "R9b5Jg7_e2uc"
      },
      "outputs": [],
      "source": [
        "for epoch in range(epochs):\n",
        "    model.train()\n",
        "    train_loss = 0\n",
        "\n",
        "    for batch in tqdm(train_loader):\n",
        "        input_ids = batch[0].to(device)\n",
        "        attention_mask = batch[1].to(device)\n",
        "        labels = batch[2].to(device)\n",
        "\n",
        "        optimizer.zero_grad()\n",
        "        outputs = model(input_ids, attention_mask=attention_mask, labels=labels)\n",
        "\n",
        "        loss = outputs.loss\n",
        "        train_loss += loss.item()\n",
        "\n",
        "        loss.backward()\n",
        "        optimizer.step()\n",
        "\n",
        "    avg_train_loss = train_loss / len(train_loader)\n",
        "    print(f\"Epoch {epoch + 1}, Training Loss: {avg_train_loss:.4f}\")\n",
        "\n",
        "    # Evaluate on validation set\n",
        "    model.eval()\n",
        "    val_preds, val_true = [], []\n",
        "\n",
        "    for batch in val_loader:\n",
        "        input_ids = batch[0].to(device)\n",
        "        attention_mask = batch[1].to(device)\n",
        "        labels = batch[2].to(device)\n",
        "\n",
        "        with torch.no_grad():\n",
        "            outputs = model(input_ids, attention_mask=attention_mask)\n",
        "            preds = torch.argmax(outputs.logits, axis=1)\n",
        "            val_preds.extend(preds.cpu().numpy())\n",
        "            val_true.extend(labels.cpu().numpy())\n",
        "\n",
        "    val_accuracy = accuracy_score(val_true, val_preds)\n",
        "    print(f\"Epoch {epoch + 1}, Validation Accuracy: {val_accuracy:.4f}\")\n",
        "\n",
        "    if val_accuracy > best_val_acc:\n",
        "        best_val_acc = val_accuracy\n",
        "        torch.save(model.state_dict(), 'best_model.pth')\n",
        "        counter = 0\n",
        "    else:\n",
        "        counter += 1\n",
        "        if counter >= patience:\n",
        "            print(\"Early stopping\")\n",
        "            break"
      ]
    }
  ],
  "metadata": {
    "colab": {
      "provenance": [],
      "authorship_tag": "ABX9TyOo4cXCRswv2KvQLAgWbzA/",
      "include_colab_link": true
    },
    "kernelspec": {
      "display_name": "Python 3",
      "name": "python3"
    },
    "language_info": {
      "name": "python"
    },
    "widgets": {
      "application/vnd.jupyter.widget-state+json": {
        "0311d9ce09b7437f8a36e423a881c9f3": {
          "model_module": "@jupyter-widgets/controls",
          "model_module_version": "1.5.0",
          "model_name": "ProgressStyleModel",
          "state": {
            "_model_module": "@jupyter-widgets/controls",
            "_model_module_version": "1.5.0",
            "_model_name": "ProgressStyleModel",
            "_view_count": null,
            "_view_module": "@jupyter-widgets/base",
            "_view_module_version": "1.2.0",
            "_view_name": "StyleView",
            "bar_color": null,
            "description_width": ""
          }
        },
        "08077568c09c4fe4aacc11fae1374828": {
          "model_module": "@jupyter-widgets/base",
          "model_module_version": "1.2.0",
          "model_name": "LayoutModel",
          "state": {
            "_model_module": "@jupyter-widgets/base",
            "_model_module_version": "1.2.0",
            "_model_name": "LayoutModel",
            "_view_count": null,
            "_view_module": "@jupyter-widgets/base",
            "_view_module_version": "1.2.0",
            "_view_name": "LayoutView",
            "align_content": null,
            "align_items": null,
            "align_self": null,
            "border": null,
            "bottom": null,
            "display": null,
            "flex": null,
            "flex_flow": null,
            "grid_area": null,
            "grid_auto_columns": null,
            "grid_auto_flow": null,
            "grid_auto_rows": null,
            "grid_column": null,
            "grid_gap": null,
            "grid_row": null,
            "grid_template_areas": null,
            "grid_template_columns": null,
            "grid_template_rows": null,
            "height": null,
            "justify_content": null,
            "justify_items": null,
            "left": null,
            "margin": null,
            "max_height": null,
            "max_width": null,
            "min_height": null,
            "min_width": null,
            "object_fit": null,
            "object_position": null,
            "order": null,
            "overflow": null,
            "overflow_x": null,
            "overflow_y": null,
            "padding": null,
            "right": null,
            "top": null,
            "visibility": null,
            "width": null
          }
        },
        "099f49ce473e4f81bbfa98752cf60b75": {
          "model_module": "@jupyter-widgets/controls",
          "model_module_version": "1.5.0",
          "model_name": "HTMLModel",
          "state": {
            "_dom_classes": [],
            "_model_module": "@jupyter-widgets/controls",
            "_model_module_version": "1.5.0",
            "_model_name": "HTMLModel",
            "_view_count": null,
            "_view_module": "@jupyter-widgets/controls",
            "_view_module_version": "1.5.0",
            "_view_name": "HTMLView",
            "description": "",
            "description_tooltip": null,
            "layout": "IPY_MODEL_5a7abdaede844912b6748647373a2dbb",
            "placeholder": "​",
            "style": "IPY_MODEL_3bcd75f5ce6b4fb09da690c48ae3f3c8",
            "value": " 48.0/48.0 [00:00&lt;00:00, 1.40kB/s]"
          }
        },
        "16f59590bbbf49ed9e6c5f39c63b5f85": {
          "model_module": "@jupyter-widgets/controls",
          "model_module_version": "1.5.0",
          "model_name": "FloatProgressModel",
          "state": {
            "_dom_classes": [],
            "_model_module": "@jupyter-widgets/controls",
            "_model_module_version": "1.5.0",
            "_model_name": "FloatProgressModel",
            "_view_count": null,
            "_view_module": "@jupyter-widgets/controls",
            "_view_module_version": "1.5.0",
            "_view_name": "ProgressView",
            "bar_style": "success",
            "description": "",
            "description_tooltip": null,
            "layout": "IPY_MODEL_f38c445480ba447094d5d6d276261ca1",
            "max": 466062,
            "min": 0,
            "orientation": "horizontal",
            "style": "IPY_MODEL_43b3a39b78e344ed8c64a6a47a1d2dc3",
            "value": 466062
          }
        },
        "225d842f95094d31917db231bd02bd59": {
          "model_module": "@jupyter-widgets/base",
          "model_module_version": "1.2.0",
          "model_name": "LayoutModel",
          "state": {
            "_model_module": "@jupyter-widgets/base",
            "_model_module_version": "1.2.0",
            "_model_name": "LayoutModel",
            "_view_count": null,
            "_view_module": "@jupyter-widgets/base",
            "_view_module_version": "1.2.0",
            "_view_name": "LayoutView",
            "align_content": null,
            "align_items": null,
            "align_self": null,
            "border": null,
            "bottom": null,
            "display": null,
            "flex": null,
            "flex_flow": null,
            "grid_area": null,
            "grid_auto_columns": null,
            "grid_auto_flow": null,
            "grid_auto_rows": null,
            "grid_column": null,
            "grid_gap": null,
            "grid_row": null,
            "grid_template_areas": null,
            "grid_template_columns": null,
            "grid_template_rows": null,
            "height": null,
            "justify_content": null,
            "justify_items": null,
            "left": null,
            "margin": null,
            "max_height": null,
            "max_width": null,
            "min_height": null,
            "min_width": null,
            "object_fit": null,
            "object_position": null,
            "order": null,
            "overflow": null,
            "overflow_x": null,
            "overflow_y": null,
            "padding": null,
            "right": null,
            "top": null,
            "visibility": null,
            "width": null
          }
        },
        "22692f9d85e04a85bc74fb15c9d9846f": {
          "model_module": "@jupyter-widgets/base",
          "model_module_version": "1.2.0",
          "model_name": "LayoutModel",
          "state": {
            "_model_module": "@jupyter-widgets/base",
            "_model_module_version": "1.2.0",
            "_model_name": "LayoutModel",
            "_view_count": null,
            "_view_module": "@jupyter-widgets/base",
            "_view_module_version": "1.2.0",
            "_view_name": "LayoutView",
            "align_content": null,
            "align_items": null,
            "align_self": null,
            "border": null,
            "bottom": null,
            "display": null,
            "flex": null,
            "flex_flow": null,
            "grid_area": null,
            "grid_auto_columns": null,
            "grid_auto_flow": null,
            "grid_auto_rows": null,
            "grid_column": null,
            "grid_gap": null,
            "grid_row": null,
            "grid_template_areas": null,
            "grid_template_columns": null,
            "grid_template_rows": null,
            "height": null,
            "justify_content": null,
            "justify_items": null,
            "left": null,
            "margin": null,
            "max_height": null,
            "max_width": null,
            "min_height": null,
            "min_width": null,
            "object_fit": null,
            "object_position": null,
            "order": null,
            "overflow": null,
            "overflow_x": null,
            "overflow_y": null,
            "padding": null,
            "right": null,
            "top": null,
            "visibility": null,
            "width": null
          }
        },
        "2c95bbf957554434833eeed7e77240ee": {
          "model_module": "@jupyter-widgets/controls",
          "model_module_version": "1.5.0",
          "model_name": "ProgressStyleModel",
          "state": {
            "_model_module": "@jupyter-widgets/controls",
            "_model_module_version": "1.5.0",
            "_model_name": "ProgressStyleModel",
            "_view_count": null,
            "_view_module": "@jupyter-widgets/base",
            "_view_module_version": "1.2.0",
            "_view_name": "StyleView",
            "bar_color": null,
            "description_width": ""
          }
        },
        "3360f398133b428ba9612fd45a783e76": {
          "model_module": "@jupyter-widgets/controls",
          "model_module_version": "1.5.0",
          "model_name": "FloatProgressModel",
          "state": {
            "_dom_classes": [],
            "_model_module": "@jupyter-widgets/controls",
            "_model_module_version": "1.5.0",
            "_model_name": "FloatProgressModel",
            "_view_count": null,
            "_view_module": "@jupyter-widgets/controls",
            "_view_module_version": "1.5.0",
            "_view_name": "ProgressView",
            "bar_style": "success",
            "description": "",
            "description_tooltip": null,
            "layout": "IPY_MODEL_6eaf5436e00e41658c982aa319fb843d",
            "max": 440449768,
            "min": 0,
            "orientation": "horizontal",
            "style": "IPY_MODEL_e406f7321abe477ba7a9e2e4042337b8",
            "value": 440449768
          }
        },
        "3711c5e44bab48e792f5ee7922c5e9b7": {
          "model_module": "@jupyter-widgets/controls",
          "model_module_version": "1.5.0",
          "model_name": "FloatProgressModel",
          "state": {
            "_dom_classes": [],
            "_model_module": "@jupyter-widgets/controls",
            "_model_module_version": "1.5.0",
            "_model_name": "FloatProgressModel",
            "_view_count": null,
            "_view_module": "@jupyter-widgets/controls",
            "_view_module_version": "1.5.0",
            "_view_name": "ProgressView",
            "bar_style": "success",
            "description": "",
            "description_tooltip": null,
            "layout": "IPY_MODEL_a4f2215b82874f2ba33d57042646869e",
            "max": 231508,
            "min": 0,
            "orientation": "horizontal",
            "style": "IPY_MODEL_2c95bbf957554434833eeed7e77240ee",
            "value": 231508
          }
        },
        "38183c18dbf14648a51e9cb2b7aa9811": {
          "model_module": "@jupyter-widgets/base",
          "model_module_version": "1.2.0",
          "model_name": "LayoutModel",
          "state": {
            "_model_module": "@jupyter-widgets/base",
            "_model_module_version": "1.2.0",
            "_model_name": "LayoutModel",
            "_view_count": null,
            "_view_module": "@jupyter-widgets/base",
            "_view_module_version": "1.2.0",
            "_view_name": "LayoutView",
            "align_content": null,
            "align_items": null,
            "align_self": null,
            "border": null,
            "bottom": null,
            "display": null,
            "flex": null,
            "flex_flow": null,
            "grid_area": null,
            "grid_auto_columns": null,
            "grid_auto_flow": null,
            "grid_auto_rows": null,
            "grid_column": null,
            "grid_gap": null,
            "grid_row": null,
            "grid_template_areas": null,
            "grid_template_columns": null,
            "grid_template_rows": null,
            "height": null,
            "justify_content": null,
            "justify_items": null,
            "left": null,
            "margin": null,
            "max_height": null,
            "max_width": null,
            "min_height": null,
            "min_width": null,
            "object_fit": null,
            "object_position": null,
            "order": null,
            "overflow": null,
            "overflow_x": null,
            "overflow_y": null,
            "padding": null,
            "right": null,
            "top": null,
            "visibility": null,
            "width": null
          }
        },
        "383ad749d1b14925aa39499e98f69869": {
          "model_module": "@jupyter-widgets/controls",
          "model_module_version": "1.5.0",
          "model_name": "DescriptionStyleModel",
          "state": {
            "_model_module": "@jupyter-widgets/controls",
            "_model_module_version": "1.5.0",
            "_model_name": "DescriptionStyleModel",
            "_view_count": null,
            "_view_module": "@jupyter-widgets/base",
            "_view_module_version": "1.2.0",
            "_view_name": "StyleView",
            "description_width": ""
          }
        },
        "3b3bbf39929742c59bdbfc061537f068": {
          "model_module": "@jupyter-widgets/controls",
          "model_module_version": "1.5.0",
          "model_name": "HTMLModel",
          "state": {
            "_dom_classes": [],
            "_model_module": "@jupyter-widgets/controls",
            "_model_module_version": "1.5.0",
            "_model_name": "HTMLModel",
            "_view_count": null,
            "_view_module": "@jupyter-widgets/controls",
            "_view_module_version": "1.5.0",
            "_view_name": "HTMLView",
            "description": "",
            "description_tooltip": null,
            "layout": "IPY_MODEL_edb00bd316014a3e870cffd01ec16511",
            "placeholder": "​",
            "style": "IPY_MODEL_ecc949ddf0af45429afa3bb91cf751e3",
            "value": "vocab.txt: 100%"
          }
        },
        "3bcd75f5ce6b4fb09da690c48ae3f3c8": {
          "model_module": "@jupyter-widgets/controls",
          "model_module_version": "1.5.0",
          "model_name": "DescriptionStyleModel",
          "state": {
            "_model_module": "@jupyter-widgets/controls",
            "_model_module_version": "1.5.0",
            "_model_name": "DescriptionStyleModel",
            "_view_count": null,
            "_view_module": "@jupyter-widgets/base",
            "_view_module_version": "1.2.0",
            "_view_name": "StyleView",
            "description_width": ""
          }
        },
        "43b3a39b78e344ed8c64a6a47a1d2dc3": {
          "model_module": "@jupyter-widgets/controls",
          "model_module_version": "1.5.0",
          "model_name": "ProgressStyleModel",
          "state": {
            "_model_module": "@jupyter-widgets/controls",
            "_model_module_version": "1.5.0",
            "_model_name": "ProgressStyleModel",
            "_view_count": null,
            "_view_module": "@jupyter-widgets/base",
            "_view_module_version": "1.2.0",
            "_view_name": "StyleView",
            "bar_color": null,
            "description_width": ""
          }
        },
        "4fc25751aff44270921e13f8a52cd79e": {
          "model_module": "@jupyter-widgets/controls",
          "model_module_version": "1.5.0",
          "model_name": "HTMLModel",
          "state": {
            "_dom_classes": [],
            "_model_module": "@jupyter-widgets/controls",
            "_model_module_version": "1.5.0",
            "_model_name": "HTMLModel",
            "_view_count": null,
            "_view_module": "@jupyter-widgets/controls",
            "_view_module_version": "1.5.0",
            "_view_name": "HTMLView",
            "description": "",
            "description_tooltip": null,
            "layout": "IPY_MODEL_225d842f95094d31917db231bd02bd59",
            "placeholder": "​",
            "style": "IPY_MODEL_f82b4ba23ce64ac7a8a80a658b9dd991",
            "value": " 466k/466k [00:00&lt;00:00, 15.2MB/s]"
          }
        },
        "4ff32d734c144144bba2468f31eaa303": {
          "model_module": "@jupyter-widgets/controls",
          "model_module_version": "1.5.0",
          "model_name": "HBoxModel",
          "state": {
            "_dom_classes": [],
            "_model_module": "@jupyter-widgets/controls",
            "_model_module_version": "1.5.0",
            "_model_name": "HBoxModel",
            "_view_count": null,
            "_view_module": "@jupyter-widgets/controls",
            "_view_module_version": "1.5.0",
            "_view_name": "HBoxView",
            "box_style": "",
            "children": [
              "IPY_MODEL_7276c401861d4c409b380cda2be65bd3",
              "IPY_MODEL_3360f398133b428ba9612fd45a783e76",
              "IPY_MODEL_d8eff168f3b5473c826e4ae80241add1"
            ],
            "layout": "IPY_MODEL_d4cd322181ef4bac9faf4678aac31606"
          }
        },
        "5a7abdaede844912b6748647373a2dbb": {
          "model_module": "@jupyter-widgets/base",
          "model_module_version": "1.2.0",
          "model_name": "LayoutModel",
          "state": {
            "_model_module": "@jupyter-widgets/base",
            "_model_module_version": "1.2.0",
            "_model_name": "LayoutModel",
            "_view_count": null,
            "_view_module": "@jupyter-widgets/base",
            "_view_module_version": "1.2.0",
            "_view_name": "LayoutView",
            "align_content": null,
            "align_items": null,
            "align_self": null,
            "border": null,
            "bottom": null,
            "display": null,
            "flex": null,
            "flex_flow": null,
            "grid_area": null,
            "grid_auto_columns": null,
            "grid_auto_flow": null,
            "grid_auto_rows": null,
            "grid_column": null,
            "grid_gap": null,
            "grid_row": null,
            "grid_template_areas": null,
            "grid_template_columns": null,
            "grid_template_rows": null,
            "height": null,
            "justify_content": null,
            "justify_items": null,
            "left": null,
            "margin": null,
            "max_height": null,
            "max_width": null,
            "min_height": null,
            "min_width": null,
            "object_fit": null,
            "object_position": null,
            "order": null,
            "overflow": null,
            "overflow_x": null,
            "overflow_y": null,
            "padding": null,
            "right": null,
            "top": null,
            "visibility": null,
            "width": null
          }
        },
        "655d2d12f0864a6f98c7c6a3a87d31d7": {
          "model_module": "@jupyter-widgets/controls",
          "model_module_version": "1.5.0",
          "model_name": "HBoxModel",
          "state": {
            "_dom_classes": [],
            "_model_module": "@jupyter-widgets/controls",
            "_model_module_version": "1.5.0",
            "_model_name": "HBoxModel",
            "_view_count": null,
            "_view_module": "@jupyter-widgets/controls",
            "_view_module_version": "1.5.0",
            "_view_name": "HBoxView",
            "box_style": "",
            "children": [
              "IPY_MODEL_9005ba51ac1349d98d4eefe614349a82",
              "IPY_MODEL_eb822e9aa2cb482cabc051b5b771473c",
              "IPY_MODEL_a120dc40855d4a0685533204d790be64"
            ],
            "layout": "IPY_MODEL_08077568c09c4fe4aacc11fae1374828"
          }
        },
        "6c181a72567f4626a900d04eb64c51dd": {
          "model_module": "@jupyter-widgets/controls",
          "model_module_version": "1.5.0",
          "model_name": "HBoxModel",
          "state": {
            "_dom_classes": [],
            "_model_module": "@jupyter-widgets/controls",
            "_model_module_version": "1.5.0",
            "_model_name": "HBoxModel",
            "_view_count": null,
            "_view_module": "@jupyter-widgets/controls",
            "_view_module_version": "1.5.0",
            "_view_name": "HBoxView",
            "box_style": "",
            "children": [
              "IPY_MODEL_3b3bbf39929742c59bdbfc061537f068",
              "IPY_MODEL_3711c5e44bab48e792f5ee7922c5e9b7",
              "IPY_MODEL_e39b2d9991b148f8b96eadd20550ee55"
            ],
            "layout": "IPY_MODEL_86004e92b3344ae880ec52057b257357"
          }
        },
        "6d9bb4f04ee04c248a40f366e83c045d": {
          "model_module": "@jupyter-widgets/base",
          "model_module_version": "1.2.0",
          "model_name": "LayoutModel",
          "state": {
            "_model_module": "@jupyter-widgets/base",
            "_model_module_version": "1.2.0",
            "_model_name": "LayoutModel",
            "_view_count": null,
            "_view_module": "@jupyter-widgets/base",
            "_view_module_version": "1.2.0",
            "_view_name": "LayoutView",
            "align_content": null,
            "align_items": null,
            "align_self": null,
            "border": null,
            "bottom": null,
            "display": null,
            "flex": null,
            "flex_flow": null,
            "grid_area": null,
            "grid_auto_columns": null,
            "grid_auto_flow": null,
            "grid_auto_rows": null,
            "grid_column": null,
            "grid_gap": null,
            "grid_row": null,
            "grid_template_areas": null,
            "grid_template_columns": null,
            "grid_template_rows": null,
            "height": null,
            "justify_content": null,
            "justify_items": null,
            "left": null,
            "margin": null,
            "max_height": null,
            "max_width": null,
            "min_height": null,
            "min_width": null,
            "object_fit": null,
            "object_position": null,
            "order": null,
            "overflow": null,
            "overflow_x": null,
            "overflow_y": null,
            "padding": null,
            "right": null,
            "top": null,
            "visibility": null,
            "width": null
          }
        },
        "6eaf5436e00e41658c982aa319fb843d": {
          "model_module": "@jupyter-widgets/base",
          "model_module_version": "1.2.0",
          "model_name": "LayoutModel",
          "state": {
            "_model_module": "@jupyter-widgets/base",
            "_model_module_version": "1.2.0",
            "_model_name": "LayoutModel",
            "_view_count": null,
            "_view_module": "@jupyter-widgets/base",
            "_view_module_version": "1.2.0",
            "_view_name": "LayoutView",
            "align_content": null,
            "align_items": null,
            "align_self": null,
            "border": null,
            "bottom": null,
            "display": null,
            "flex": null,
            "flex_flow": null,
            "grid_area": null,
            "grid_auto_columns": null,
            "grid_auto_flow": null,
            "grid_auto_rows": null,
            "grid_column": null,
            "grid_gap": null,
            "grid_row": null,
            "grid_template_areas": null,
            "grid_template_columns": null,
            "grid_template_rows": null,
            "height": null,
            "justify_content": null,
            "justify_items": null,
            "left": null,
            "margin": null,
            "max_height": null,
            "max_width": null,
            "min_height": null,
            "min_width": null,
            "object_fit": null,
            "object_position": null,
            "order": null,
            "overflow": null,
            "overflow_x": null,
            "overflow_y": null,
            "padding": null,
            "right": null,
            "top": null,
            "visibility": null,
            "width": null
          }
        },
        "7276c401861d4c409b380cda2be65bd3": {
          "model_module": "@jupyter-widgets/controls",
          "model_module_version": "1.5.0",
          "model_name": "HTMLModel",
          "state": {
            "_dom_classes": [],
            "_model_module": "@jupyter-widgets/controls",
            "_model_module_version": "1.5.0",
            "_model_name": "HTMLModel",
            "_view_count": null,
            "_view_module": "@jupyter-widgets/controls",
            "_view_module_version": "1.5.0",
            "_view_name": "HTMLView",
            "description": "",
            "description_tooltip": null,
            "layout": "IPY_MODEL_d494272784f340cfbbdc5b69eda81122",
            "placeholder": "​",
            "style": "IPY_MODEL_fb07beb296664d1da6b1251d4220a791",
            "value": "model.safetensors: 100%"
          }
        },
        "755e0d3c1b3a41e48303879f61fc83f4": {
          "model_module": "@jupyter-widgets/controls",
          "model_module_version": "1.5.0",
          "model_name": "HTMLModel",
          "state": {
            "_dom_classes": [],
            "_model_module": "@jupyter-widgets/controls",
            "_model_module_version": "1.5.0",
            "_model_name": "HTMLModel",
            "_view_count": null,
            "_view_module": "@jupyter-widgets/controls",
            "_view_module_version": "1.5.0",
            "_view_name": "HTMLView",
            "description": "",
            "description_tooltip": null,
            "layout": "IPY_MODEL_22692f9d85e04a85bc74fb15c9d9846f",
            "placeholder": "​",
            "style": "IPY_MODEL_8ea74f1135a644b08879c245d22f69e1",
            "value": "tokenizer_config.json: 100%"
          }
        },
        "82ddefbbcdd04c22bf7658f5181f5a62": {
          "model_module": "@jupyter-widgets/base",
          "model_module_version": "1.2.0",
          "model_name": "LayoutModel",
          "state": {
            "_model_module": "@jupyter-widgets/base",
            "_model_module_version": "1.2.0",
            "_model_name": "LayoutModel",
            "_view_count": null,
            "_view_module": "@jupyter-widgets/base",
            "_view_module_version": "1.2.0",
            "_view_name": "LayoutView",
            "align_content": null,
            "align_items": null,
            "align_self": null,
            "border": null,
            "bottom": null,
            "display": null,
            "flex": null,
            "flex_flow": null,
            "grid_area": null,
            "grid_auto_columns": null,
            "grid_auto_flow": null,
            "grid_auto_rows": null,
            "grid_column": null,
            "grid_gap": null,
            "grid_row": null,
            "grid_template_areas": null,
            "grid_template_columns": null,
            "grid_template_rows": null,
            "height": null,
            "justify_content": null,
            "justify_items": null,
            "left": null,
            "margin": null,
            "max_height": null,
            "max_width": null,
            "min_height": null,
            "min_width": null,
            "object_fit": null,
            "object_position": null,
            "order": null,
            "overflow": null,
            "overflow_x": null,
            "overflow_y": null,
            "padding": null,
            "right": null,
            "top": null,
            "visibility": null,
            "width": null
          }
        },
        "86004e92b3344ae880ec52057b257357": {
          "model_module": "@jupyter-widgets/base",
          "model_module_version": "1.2.0",
          "model_name": "LayoutModel",
          "state": {
            "_model_module": "@jupyter-widgets/base",
            "_model_module_version": "1.2.0",
            "_model_name": "LayoutModel",
            "_view_count": null,
            "_view_module": "@jupyter-widgets/base",
            "_view_module_version": "1.2.0",
            "_view_name": "LayoutView",
            "align_content": null,
            "align_items": null,
            "align_self": null,
            "border": null,
            "bottom": null,
            "display": null,
            "flex": null,
            "flex_flow": null,
            "grid_area": null,
            "grid_auto_columns": null,
            "grid_auto_flow": null,
            "grid_auto_rows": null,
            "grid_column": null,
            "grid_gap": null,
            "grid_row": null,
            "grid_template_areas": null,
            "grid_template_columns": null,
            "grid_template_rows": null,
            "height": null,
            "justify_content": null,
            "justify_items": null,
            "left": null,
            "margin": null,
            "max_height": null,
            "max_width": null,
            "min_height": null,
            "min_width": null,
            "object_fit": null,
            "object_position": null,
            "order": null,
            "overflow": null,
            "overflow_x": null,
            "overflow_y": null,
            "padding": null,
            "right": null,
            "top": null,
            "visibility": null,
            "width": null
          }
        },
        "88727cfb72b1409fa79f19f043010382": {
          "model_module": "@jupyter-widgets/base",
          "model_module_version": "1.2.0",
          "model_name": "LayoutModel",
          "state": {
            "_model_module": "@jupyter-widgets/base",
            "_model_module_version": "1.2.0",
            "_model_name": "LayoutModel",
            "_view_count": null,
            "_view_module": "@jupyter-widgets/base",
            "_view_module_version": "1.2.0",
            "_view_name": "LayoutView",
            "align_content": null,
            "align_items": null,
            "align_self": null,
            "border": null,
            "bottom": null,
            "display": null,
            "flex": null,
            "flex_flow": null,
            "grid_area": null,
            "grid_auto_columns": null,
            "grid_auto_flow": null,
            "grid_auto_rows": null,
            "grid_column": null,
            "grid_gap": null,
            "grid_row": null,
            "grid_template_areas": null,
            "grid_template_columns": null,
            "grid_template_rows": null,
            "height": null,
            "justify_content": null,
            "justify_items": null,
            "left": null,
            "margin": null,
            "max_height": null,
            "max_width": null,
            "min_height": null,
            "min_width": null,
            "object_fit": null,
            "object_position": null,
            "order": null,
            "overflow": null,
            "overflow_x": null,
            "overflow_y": null,
            "padding": null,
            "right": null,
            "top": null,
            "visibility": null,
            "width": null
          }
        },
        "8d745c6cc3a64b06bde19648772dca3e": {
          "model_module": "@jupyter-widgets/controls",
          "model_module_version": "1.5.0",
          "model_name": "HBoxModel",
          "state": {
            "_dom_classes": [],
            "_model_module": "@jupyter-widgets/controls",
            "_model_module_version": "1.5.0",
            "_model_name": "HBoxModel",
            "_view_count": null,
            "_view_module": "@jupyter-widgets/controls",
            "_view_module_version": "1.5.0",
            "_view_name": "HBoxView",
            "box_style": "",
            "children": [
              "IPY_MODEL_bcab8fba4cda4c4fa57745f0fc0f7edb",
              "IPY_MODEL_16f59590bbbf49ed9e6c5f39c63b5f85",
              "IPY_MODEL_4fc25751aff44270921e13f8a52cd79e"
            ],
            "layout": "IPY_MODEL_6d9bb4f04ee04c248a40f366e83c045d"
          }
        },
        "8ea74f1135a644b08879c245d22f69e1": {
          "model_module": "@jupyter-widgets/controls",
          "model_module_version": "1.5.0",
          "model_name": "DescriptionStyleModel",
          "state": {
            "_model_module": "@jupyter-widgets/controls",
            "_model_module_version": "1.5.0",
            "_model_name": "DescriptionStyleModel",
            "_view_count": null,
            "_view_module": "@jupyter-widgets/base",
            "_view_module_version": "1.2.0",
            "_view_name": "StyleView",
            "description_width": ""
          }
        },
        "9005ba51ac1349d98d4eefe614349a82": {
          "model_module": "@jupyter-widgets/controls",
          "model_module_version": "1.5.0",
          "model_name": "HTMLModel",
          "state": {
            "_dom_classes": [],
            "_model_module": "@jupyter-widgets/controls",
            "_model_module_version": "1.5.0",
            "_model_name": "HTMLModel",
            "_view_count": null,
            "_view_module": "@jupyter-widgets/controls",
            "_view_module_version": "1.5.0",
            "_view_name": "HTMLView",
            "description": "",
            "description_tooltip": null,
            "layout": "IPY_MODEL_88727cfb72b1409fa79f19f043010382",
            "placeholder": "​",
            "style": "IPY_MODEL_b92893d6fece452b906670099002c156",
            "value": "config.json: 100%"
          }
        },
        "9da0e9b7616d4c9e924696aa257535b3": {
          "model_module": "@jupyter-widgets/controls",
          "model_module_version": "1.5.0",
          "model_name": "FloatProgressModel",
          "state": {
            "_dom_classes": [],
            "_model_module": "@jupyter-widgets/controls",
            "_model_module_version": "1.5.0",
            "_model_name": "FloatProgressModel",
            "_view_count": null,
            "_view_module": "@jupyter-widgets/controls",
            "_view_module_version": "1.5.0",
            "_view_name": "ProgressView",
            "bar_style": "success",
            "description": "",
            "description_tooltip": null,
            "layout": "IPY_MODEL_bdee827265814c43a58adee9c6508f0d",
            "max": 48,
            "min": 0,
            "orientation": "horizontal",
            "style": "IPY_MODEL_0311d9ce09b7437f8a36e423a881c9f3",
            "value": 48
          }
        },
        "a120dc40855d4a0685533204d790be64": {
          "model_module": "@jupyter-widgets/controls",
          "model_module_version": "1.5.0",
          "model_name": "HTMLModel",
          "state": {
            "_dom_classes": [],
            "_model_module": "@jupyter-widgets/controls",
            "_model_module_version": "1.5.0",
            "_model_name": "HTMLModel",
            "_view_count": null,
            "_view_module": "@jupyter-widgets/controls",
            "_view_module_version": "1.5.0",
            "_view_name": "HTMLView",
            "description": "",
            "description_tooltip": null,
            "layout": "IPY_MODEL_c1273322ef7a4f4bb6a217def60f07c2",
            "placeholder": "​",
            "style": "IPY_MODEL_d213cc3e7758449d8d5d4dc523a40228",
            "value": " 570/570 [00:00&lt;00:00, 29.9kB/s]"
          }
        },
        "a4f2215b82874f2ba33d57042646869e": {
          "model_module": "@jupyter-widgets/base",
          "model_module_version": "1.2.0",
          "model_name": "LayoutModel",
          "state": {
            "_model_module": "@jupyter-widgets/base",
            "_model_module_version": "1.2.0",
            "_model_name": "LayoutModel",
            "_view_count": null,
            "_view_module": "@jupyter-widgets/base",
            "_view_module_version": "1.2.0",
            "_view_name": "LayoutView",
            "align_content": null,
            "align_items": null,
            "align_self": null,
            "border": null,
            "bottom": null,
            "display": null,
            "flex": null,
            "flex_flow": null,
            "grid_area": null,
            "grid_auto_columns": null,
            "grid_auto_flow": null,
            "grid_auto_rows": null,
            "grid_column": null,
            "grid_gap": null,
            "grid_row": null,
            "grid_template_areas": null,
            "grid_template_columns": null,
            "grid_template_rows": null,
            "height": null,
            "justify_content": null,
            "justify_items": null,
            "left": null,
            "margin": null,
            "max_height": null,
            "max_width": null,
            "min_height": null,
            "min_width": null,
            "object_fit": null,
            "object_position": null,
            "order": null,
            "overflow": null,
            "overflow_x": null,
            "overflow_y": null,
            "padding": null,
            "right": null,
            "top": null,
            "visibility": null,
            "width": null
          }
        },
        "a848e2e69c4142d5922a8cf7e6714d7c": {
          "model_module": "@jupyter-widgets/controls",
          "model_module_version": "1.5.0",
          "model_name": "DescriptionStyleModel",
          "state": {
            "_model_module": "@jupyter-widgets/controls",
            "_model_module_version": "1.5.0",
            "_model_name": "DescriptionStyleModel",
            "_view_count": null,
            "_view_module": "@jupyter-widgets/base",
            "_view_module_version": "1.2.0",
            "_view_name": "StyleView",
            "description_width": ""
          }
        },
        "ab9bd406f1b040349b98a7b3e7ae9484": {
          "model_module": "@jupyter-widgets/base",
          "model_module_version": "1.2.0",
          "model_name": "LayoutModel",
          "state": {
            "_model_module": "@jupyter-widgets/base",
            "_model_module_version": "1.2.0",
            "_model_name": "LayoutModel",
            "_view_count": null,
            "_view_module": "@jupyter-widgets/base",
            "_view_module_version": "1.2.0",
            "_view_name": "LayoutView",
            "align_content": null,
            "align_items": null,
            "align_self": null,
            "border": null,
            "bottom": null,
            "display": null,
            "flex": null,
            "flex_flow": null,
            "grid_area": null,
            "grid_auto_columns": null,
            "grid_auto_flow": null,
            "grid_auto_rows": null,
            "grid_column": null,
            "grid_gap": null,
            "grid_row": null,
            "grid_template_areas": null,
            "grid_template_columns": null,
            "grid_template_rows": null,
            "height": null,
            "justify_content": null,
            "justify_items": null,
            "left": null,
            "margin": null,
            "max_height": null,
            "max_width": null,
            "min_height": null,
            "min_width": null,
            "object_fit": null,
            "object_position": null,
            "order": null,
            "overflow": null,
            "overflow_x": null,
            "overflow_y": null,
            "padding": null,
            "right": null,
            "top": null,
            "visibility": null,
            "width": null
          }
        },
        "b92893d6fece452b906670099002c156": {
          "model_module": "@jupyter-widgets/controls",
          "model_module_version": "1.5.0",
          "model_name": "DescriptionStyleModel",
          "state": {
            "_model_module": "@jupyter-widgets/controls",
            "_model_module_version": "1.5.0",
            "_model_name": "DescriptionStyleModel",
            "_view_count": null,
            "_view_module": "@jupyter-widgets/base",
            "_view_module_version": "1.2.0",
            "_view_name": "StyleView",
            "description_width": ""
          }
        },
        "bcab8fba4cda4c4fa57745f0fc0f7edb": {
          "model_module": "@jupyter-widgets/controls",
          "model_module_version": "1.5.0",
          "model_name": "HTMLModel",
          "state": {
            "_dom_classes": [],
            "_model_module": "@jupyter-widgets/controls",
            "_model_module_version": "1.5.0",
            "_model_name": "HTMLModel",
            "_view_count": null,
            "_view_module": "@jupyter-widgets/controls",
            "_view_module_version": "1.5.0",
            "_view_name": "HTMLView",
            "description": "",
            "description_tooltip": null,
            "layout": "IPY_MODEL_ab9bd406f1b040349b98a7b3e7ae9484",
            "placeholder": "​",
            "style": "IPY_MODEL_e6d8a04f73c440fcbb2899425c5ac894",
            "value": "tokenizer.json: 100%"
          }
        },
        "bdee827265814c43a58adee9c6508f0d": {
          "model_module": "@jupyter-widgets/base",
          "model_module_version": "1.2.0",
          "model_name": "LayoutModel",
          "state": {
            "_model_module": "@jupyter-widgets/base",
            "_model_module_version": "1.2.0",
            "_model_name": "LayoutModel",
            "_view_count": null,
            "_view_module": "@jupyter-widgets/base",
            "_view_module_version": "1.2.0",
            "_view_name": "LayoutView",
            "align_content": null,
            "align_items": null,
            "align_self": null,
            "border": null,
            "bottom": null,
            "display": null,
            "flex": null,
            "flex_flow": null,
            "grid_area": null,
            "grid_auto_columns": null,
            "grid_auto_flow": null,
            "grid_auto_rows": null,
            "grid_column": null,
            "grid_gap": null,
            "grid_row": null,
            "grid_template_areas": null,
            "grid_template_columns": null,
            "grid_template_rows": null,
            "height": null,
            "justify_content": null,
            "justify_items": null,
            "left": null,
            "margin": null,
            "max_height": null,
            "max_width": null,
            "min_height": null,
            "min_width": null,
            "object_fit": null,
            "object_position": null,
            "order": null,
            "overflow": null,
            "overflow_x": null,
            "overflow_y": null,
            "padding": null,
            "right": null,
            "top": null,
            "visibility": null,
            "width": null
          }
        },
        "c1273322ef7a4f4bb6a217def60f07c2": {
          "model_module": "@jupyter-widgets/base",
          "model_module_version": "1.2.0",
          "model_name": "LayoutModel",
          "state": {
            "_model_module": "@jupyter-widgets/base",
            "_model_module_version": "1.2.0",
            "_model_name": "LayoutModel",
            "_view_count": null,
            "_view_module": "@jupyter-widgets/base",
            "_view_module_version": "1.2.0",
            "_view_name": "LayoutView",
            "align_content": null,
            "align_items": null,
            "align_self": null,
            "border": null,
            "bottom": null,
            "display": null,
            "flex": null,
            "flex_flow": null,
            "grid_area": null,
            "grid_auto_columns": null,
            "grid_auto_flow": null,
            "grid_auto_rows": null,
            "grid_column": null,
            "grid_gap": null,
            "grid_row": null,
            "grid_template_areas": null,
            "grid_template_columns": null,
            "grid_template_rows": null,
            "height": null,
            "justify_content": null,
            "justify_items": null,
            "left": null,
            "margin": null,
            "max_height": null,
            "max_width": null,
            "min_height": null,
            "min_width": null,
            "object_fit": null,
            "object_position": null,
            "order": null,
            "overflow": null,
            "overflow_x": null,
            "overflow_y": null,
            "padding": null,
            "right": null,
            "top": null,
            "visibility": null,
            "width": null
          }
        },
        "c9407a31b74c4fefadd0efba8e0fd764": {
          "model_module": "@jupyter-widgets/base",
          "model_module_version": "1.2.0",
          "model_name": "LayoutModel",
          "state": {
            "_model_module": "@jupyter-widgets/base",
            "_model_module_version": "1.2.0",
            "_model_name": "LayoutModel",
            "_view_count": null,
            "_view_module": "@jupyter-widgets/base",
            "_view_module_version": "1.2.0",
            "_view_name": "LayoutView",
            "align_content": null,
            "align_items": null,
            "align_self": null,
            "border": null,
            "bottom": null,
            "display": null,
            "flex": null,
            "flex_flow": null,
            "grid_area": null,
            "grid_auto_columns": null,
            "grid_auto_flow": null,
            "grid_auto_rows": null,
            "grid_column": null,
            "grid_gap": null,
            "grid_row": null,
            "grid_template_areas": null,
            "grid_template_columns": null,
            "grid_template_rows": null,
            "height": null,
            "justify_content": null,
            "justify_items": null,
            "left": null,
            "margin": null,
            "max_height": null,
            "max_width": null,
            "min_height": null,
            "min_width": null,
            "object_fit": null,
            "object_position": null,
            "order": null,
            "overflow": null,
            "overflow_x": null,
            "overflow_y": null,
            "padding": null,
            "right": null,
            "top": null,
            "visibility": null,
            "width": null
          }
        },
        "d213cc3e7758449d8d5d4dc523a40228": {
          "model_module": "@jupyter-widgets/controls",
          "model_module_version": "1.5.0",
          "model_name": "DescriptionStyleModel",
          "state": {
            "_model_module": "@jupyter-widgets/controls",
            "_model_module_version": "1.5.0",
            "_model_name": "DescriptionStyleModel",
            "_view_count": null,
            "_view_module": "@jupyter-widgets/base",
            "_view_module_version": "1.2.0",
            "_view_name": "StyleView",
            "description_width": ""
          }
        },
        "d42a2cbab4be4497ad5e45e18e1351dd": {
          "model_module": "@jupyter-widgets/controls",
          "model_module_version": "1.5.0",
          "model_name": "ProgressStyleModel",
          "state": {
            "_model_module": "@jupyter-widgets/controls",
            "_model_module_version": "1.5.0",
            "_model_name": "ProgressStyleModel",
            "_view_count": null,
            "_view_module": "@jupyter-widgets/base",
            "_view_module_version": "1.2.0",
            "_view_name": "StyleView",
            "bar_color": null,
            "description_width": ""
          }
        },
        "d494272784f340cfbbdc5b69eda81122": {
          "model_module": "@jupyter-widgets/base",
          "model_module_version": "1.2.0",
          "model_name": "LayoutModel",
          "state": {
            "_model_module": "@jupyter-widgets/base",
            "_model_module_version": "1.2.0",
            "_model_name": "LayoutModel",
            "_view_count": null,
            "_view_module": "@jupyter-widgets/base",
            "_view_module_version": "1.2.0",
            "_view_name": "LayoutView",
            "align_content": null,
            "align_items": null,
            "align_self": null,
            "border": null,
            "bottom": null,
            "display": null,
            "flex": null,
            "flex_flow": null,
            "grid_area": null,
            "grid_auto_columns": null,
            "grid_auto_flow": null,
            "grid_auto_rows": null,
            "grid_column": null,
            "grid_gap": null,
            "grid_row": null,
            "grid_template_areas": null,
            "grid_template_columns": null,
            "grid_template_rows": null,
            "height": null,
            "justify_content": null,
            "justify_items": null,
            "left": null,
            "margin": null,
            "max_height": null,
            "max_width": null,
            "min_height": null,
            "min_width": null,
            "object_fit": null,
            "object_position": null,
            "order": null,
            "overflow": null,
            "overflow_x": null,
            "overflow_y": null,
            "padding": null,
            "right": null,
            "top": null,
            "visibility": null,
            "width": null
          }
        },
        "d4cd322181ef4bac9faf4678aac31606": {
          "model_module": "@jupyter-widgets/base",
          "model_module_version": "1.2.0",
          "model_name": "LayoutModel",
          "state": {
            "_model_module": "@jupyter-widgets/base",
            "_model_module_version": "1.2.0",
            "_model_name": "LayoutModel",
            "_view_count": null,
            "_view_module": "@jupyter-widgets/base",
            "_view_module_version": "1.2.0",
            "_view_name": "LayoutView",
            "align_content": null,
            "align_items": null,
            "align_self": null,
            "border": null,
            "bottom": null,
            "display": null,
            "flex": null,
            "flex_flow": null,
            "grid_area": null,
            "grid_auto_columns": null,
            "grid_auto_flow": null,
            "grid_auto_rows": null,
            "grid_column": null,
            "grid_gap": null,
            "grid_row": null,
            "grid_template_areas": null,
            "grid_template_columns": null,
            "grid_template_rows": null,
            "height": null,
            "justify_content": null,
            "justify_items": null,
            "left": null,
            "margin": null,
            "max_height": null,
            "max_width": null,
            "min_height": null,
            "min_width": null,
            "object_fit": null,
            "object_position": null,
            "order": null,
            "overflow": null,
            "overflow_x": null,
            "overflow_y": null,
            "padding": null,
            "right": null,
            "top": null,
            "visibility": null,
            "width": null
          }
        },
        "d8eff168f3b5473c826e4ae80241add1": {
          "model_module": "@jupyter-widgets/controls",
          "model_module_version": "1.5.0",
          "model_name": "HTMLModel",
          "state": {
            "_dom_classes": [],
            "_model_module": "@jupyter-widgets/controls",
            "_model_module_version": "1.5.0",
            "_model_name": "HTMLModel",
            "_view_count": null,
            "_view_module": "@jupyter-widgets/controls",
            "_view_module_version": "1.5.0",
            "_view_name": "HTMLView",
            "description": "",
            "description_tooltip": null,
            "layout": "IPY_MODEL_38183c18dbf14648a51e9cb2b7aa9811",
            "placeholder": "​",
            "style": "IPY_MODEL_a848e2e69c4142d5922a8cf7e6714d7c",
            "value": " 440M/440M [00:02&lt;00:00, 199MB/s]"
          }
        },
        "de146e88a6204f438b49d736c1f4b827": {
          "model_module": "@jupyter-widgets/controls",
          "model_module_version": "1.5.0",
          "model_name": "HBoxModel",
          "state": {
            "_dom_classes": [],
            "_model_module": "@jupyter-widgets/controls",
            "_model_module_version": "1.5.0",
            "_model_name": "HBoxModel",
            "_view_count": null,
            "_view_module": "@jupyter-widgets/controls",
            "_view_module_version": "1.5.0",
            "_view_name": "HBoxView",
            "box_style": "",
            "children": [
              "IPY_MODEL_755e0d3c1b3a41e48303879f61fc83f4",
              "IPY_MODEL_9da0e9b7616d4c9e924696aa257535b3",
              "IPY_MODEL_099f49ce473e4f81bbfa98752cf60b75"
            ],
            "layout": "IPY_MODEL_82ddefbbcdd04c22bf7658f5181f5a62"
          }
        },
        "e0d07e9403974745981105307aea521f": {
          "model_module": "@jupyter-widgets/base",
          "model_module_version": "1.2.0",
          "model_name": "LayoutModel",
          "state": {
            "_model_module": "@jupyter-widgets/base",
            "_model_module_version": "1.2.0",
            "_model_name": "LayoutModel",
            "_view_count": null,
            "_view_module": "@jupyter-widgets/base",
            "_view_module_version": "1.2.0",
            "_view_name": "LayoutView",
            "align_content": null,
            "align_items": null,
            "align_self": null,
            "border": null,
            "bottom": null,
            "display": null,
            "flex": null,
            "flex_flow": null,
            "grid_area": null,
            "grid_auto_columns": null,
            "grid_auto_flow": null,
            "grid_auto_rows": null,
            "grid_column": null,
            "grid_gap": null,
            "grid_row": null,
            "grid_template_areas": null,
            "grid_template_columns": null,
            "grid_template_rows": null,
            "height": null,
            "justify_content": null,
            "justify_items": null,
            "left": null,
            "margin": null,
            "max_height": null,
            "max_width": null,
            "min_height": null,
            "min_width": null,
            "object_fit": null,
            "object_position": null,
            "order": null,
            "overflow": null,
            "overflow_x": null,
            "overflow_y": null,
            "padding": null,
            "right": null,
            "top": null,
            "visibility": null,
            "width": null
          }
        },
        "e39b2d9991b148f8b96eadd20550ee55": {
          "model_module": "@jupyter-widgets/controls",
          "model_module_version": "1.5.0",
          "model_name": "HTMLModel",
          "state": {
            "_dom_classes": [],
            "_model_module": "@jupyter-widgets/controls",
            "_model_module_version": "1.5.0",
            "_model_name": "HTMLModel",
            "_view_count": null,
            "_view_module": "@jupyter-widgets/controls",
            "_view_module_version": "1.5.0",
            "_view_name": "HTMLView",
            "description": "",
            "description_tooltip": null,
            "layout": "IPY_MODEL_c9407a31b74c4fefadd0efba8e0fd764",
            "placeholder": "​",
            "style": "IPY_MODEL_383ad749d1b14925aa39499e98f69869",
            "value": " 232k/232k [00:00&lt;00:00, 6.02MB/s]"
          }
        },
        "e406f7321abe477ba7a9e2e4042337b8": {
          "model_module": "@jupyter-widgets/controls",
          "model_module_version": "1.5.0",
          "model_name": "ProgressStyleModel",
          "state": {
            "_model_module": "@jupyter-widgets/controls",
            "_model_module_version": "1.5.0",
            "_model_name": "ProgressStyleModel",
            "_view_count": null,
            "_view_module": "@jupyter-widgets/base",
            "_view_module_version": "1.2.0",
            "_view_name": "StyleView",
            "bar_color": null,
            "description_width": ""
          }
        },
        "e6d8a04f73c440fcbb2899425c5ac894": {
          "model_module": "@jupyter-widgets/controls",
          "model_module_version": "1.5.0",
          "model_name": "DescriptionStyleModel",
          "state": {
            "_model_module": "@jupyter-widgets/controls",
            "_model_module_version": "1.5.0",
            "_model_name": "DescriptionStyleModel",
            "_view_count": null,
            "_view_module": "@jupyter-widgets/base",
            "_view_module_version": "1.2.0",
            "_view_name": "StyleView",
            "description_width": ""
          }
        },
        "eb822e9aa2cb482cabc051b5b771473c": {
          "model_module": "@jupyter-widgets/controls",
          "model_module_version": "1.5.0",
          "model_name": "FloatProgressModel",
          "state": {
            "_dom_classes": [],
            "_model_module": "@jupyter-widgets/controls",
            "_model_module_version": "1.5.0",
            "_model_name": "FloatProgressModel",
            "_view_count": null,
            "_view_module": "@jupyter-widgets/controls",
            "_view_module_version": "1.5.0",
            "_view_name": "ProgressView",
            "bar_style": "success",
            "description": "",
            "description_tooltip": null,
            "layout": "IPY_MODEL_e0d07e9403974745981105307aea521f",
            "max": 570,
            "min": 0,
            "orientation": "horizontal",
            "style": "IPY_MODEL_d42a2cbab4be4497ad5e45e18e1351dd",
            "value": 570
          }
        },
        "ecc949ddf0af45429afa3bb91cf751e3": {
          "model_module": "@jupyter-widgets/controls",
          "model_module_version": "1.5.0",
          "model_name": "DescriptionStyleModel",
          "state": {
            "_model_module": "@jupyter-widgets/controls",
            "_model_module_version": "1.5.0",
            "_model_name": "DescriptionStyleModel",
            "_view_count": null,
            "_view_module": "@jupyter-widgets/base",
            "_view_module_version": "1.2.0",
            "_view_name": "StyleView",
            "description_width": ""
          }
        },
        "edb00bd316014a3e870cffd01ec16511": {
          "model_module": "@jupyter-widgets/base",
          "model_module_version": "1.2.0",
          "model_name": "LayoutModel",
          "state": {
            "_model_module": "@jupyter-widgets/base",
            "_model_module_version": "1.2.0",
            "_model_name": "LayoutModel",
            "_view_count": null,
            "_view_module": "@jupyter-widgets/base",
            "_view_module_version": "1.2.0",
            "_view_name": "LayoutView",
            "align_content": null,
            "align_items": null,
            "align_self": null,
            "border": null,
            "bottom": null,
            "display": null,
            "flex": null,
            "flex_flow": null,
            "grid_area": null,
            "grid_auto_columns": null,
            "grid_auto_flow": null,
            "grid_auto_rows": null,
            "grid_column": null,
            "grid_gap": null,
            "grid_row": null,
            "grid_template_areas": null,
            "grid_template_columns": null,
            "grid_template_rows": null,
            "height": null,
            "justify_content": null,
            "justify_items": null,
            "left": null,
            "margin": null,
            "max_height": null,
            "max_width": null,
            "min_height": null,
            "min_width": null,
            "object_fit": null,
            "object_position": null,
            "order": null,
            "overflow": null,
            "overflow_x": null,
            "overflow_y": null,
            "padding": null,
            "right": null,
            "top": null,
            "visibility": null,
            "width": null
          }
        },
        "f38c445480ba447094d5d6d276261ca1": {
          "model_module": "@jupyter-widgets/base",
          "model_module_version": "1.2.0",
          "model_name": "LayoutModel",
          "state": {
            "_model_module": "@jupyter-widgets/base",
            "_model_module_version": "1.2.0",
            "_model_name": "LayoutModel",
            "_view_count": null,
            "_view_module": "@jupyter-widgets/base",
            "_view_module_version": "1.2.0",
            "_view_name": "LayoutView",
            "align_content": null,
            "align_items": null,
            "align_self": null,
            "border": null,
            "bottom": null,
            "display": null,
            "flex": null,
            "flex_flow": null,
            "grid_area": null,
            "grid_auto_columns": null,
            "grid_auto_flow": null,
            "grid_auto_rows": null,
            "grid_column": null,
            "grid_gap": null,
            "grid_row": null,
            "grid_template_areas": null,
            "grid_template_columns": null,
            "grid_template_rows": null,
            "height": null,
            "justify_content": null,
            "justify_items": null,
            "left": null,
            "margin": null,
            "max_height": null,
            "max_width": null,
            "min_height": null,
            "min_width": null,
            "object_fit": null,
            "object_position": null,
            "order": null,
            "overflow": null,
            "overflow_x": null,
            "overflow_y": null,
            "padding": null,
            "right": null,
            "top": null,
            "visibility": null,
            "width": null
          }
        },
        "f82b4ba23ce64ac7a8a80a658b9dd991": {
          "model_module": "@jupyter-widgets/controls",
          "model_module_version": "1.5.0",
          "model_name": "DescriptionStyleModel",
          "state": {
            "_model_module": "@jupyter-widgets/controls",
            "_model_module_version": "1.5.0",
            "_model_name": "DescriptionStyleModel",
            "_view_count": null,
            "_view_module": "@jupyter-widgets/base",
            "_view_module_version": "1.2.0",
            "_view_name": "StyleView",
            "description_width": ""
          }
        },
        "fb07beb296664d1da6b1251d4220a791": {
          "model_module": "@jupyter-widgets/controls",
          "model_module_version": "1.5.0",
          "model_name": "DescriptionStyleModel",
          "state": {
            "_model_module": "@jupyter-widgets/controls",
            "_model_module_version": "1.5.0",
            "_model_name": "DescriptionStyleModel",
            "_view_count": null,
            "_view_module": "@jupyter-widgets/base",
            "_view_module_version": "1.2.0",
            "_view_name": "StyleView",
            "description_width": ""
          }
        }
      }
    }
  },
  "nbformat": 4,
  "nbformat_minor": 0
}